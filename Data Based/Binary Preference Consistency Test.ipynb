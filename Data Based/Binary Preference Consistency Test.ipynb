{
 "cells": [
  {
   "cell_type": "markdown",
   "metadata": {},
   "source": [
    "# Background"
   ]
  },
  {
   "cell_type": "markdown",
   "metadata": {},
   "source": [
    "We measured aesthetic preferences with a two-alternative forced choice task (2-AFC).  On each trial, subjects saw two images and asked to select the one they preferred with a keypress.  To ensure that subjects were paying attention, we randomly included trials in which the subject had to select the larger number between two images of numbers. \n",
    "\n",
    "This task was completed on six separate occasions.  For ease of reference, we refer to each of these occasions numerically by session.  Each session was one week apart, except for Session 1, which consisted of two separate 2-AFC tasks, roughly 20 minutes apart, referred to as Session 1A and Session 1B respectively.\n",
    "\n",
    "In Session 1A, after providing consent and debriefing, participants began by completing a 2-AFC task on images of cars, shirts, and phone cases in three separate blocks, one for each category of objects.  The order of these blocks was counter-balanced across subjects.  Each block consisted of a total of 105 unique comparisons, presented in random order.  After completing all 3 blocks, subjects were given a digit-span memory task lasting roughly 20 minutes.  Immediately after, in Session 1B, participants again completed the same 2-AFC preference task as before.  Therefore, the first two preference measurements were 20 minutes apart.  The digit span task was given in between in order mitigate any short-term memory effects.  In addition, participants were given explicit instructions to complete all preference tasks based on their preference at that very moment, and not based on memory of previous choices.  After completing both parts of the first session, participants were required to return on a weekly interval for 4 weeks.  At each following session, participants were administered the same 2-AFC preference task, with the same procedure as Session 1B.\n",
    "\n",
    "Session 6: Association Valence and Psychological Surveys\n",
    "One week after completion of Sessions 1 - 5, participants were asked to return for a final follow up aesthetic-preference session.  Here, participants completed a Unique Corporate Association Valence  task (Spears et al., 2006; Schepman et al., 2015).  In this task, participants received the following instructions: \n",
    "“Please write a word or short description in the boxes below of any thoughts that the image brings to mind.  Please try not to use colors in the descriptions. Type your responses in the three boxes and then please indicate how positive, neutral, or negative the description is to you.” \n",
    "\n",
    "In response, participants provided three associations for each object.  Then, participants rated each of the associations on a subjective valence scale ranging from -3 to +3.  This association task was only conducted with images of cars and shirts due to time limitations. \n",
    "\n",
    "After completing the valence association tasks, participants filled out three psychological surveys.  They were the Barrat Impulsivity Test (Stanford et al., 2009), the revised Green et al., Paranoid Thoughts Scale (Freeman et al., 2021), and the General Anxiety Disorder-7 Questionnaire (Spitzer et al., 2006). To ensure that subjects were paying attention, each of the surveys included mock questions that required subjects to click a predefined option.\n",
    "\n",
    "\n"
   ]
  },
  {
   "cell_type": "markdown",
   "metadata": {},
   "source": [
    "# Aim "
   ]
  },
  {
   "cell_type": "markdown",
   "metadata": {},
   "source": [
    "To develop a statistical test for understanding whether differenecs in a binary comparison matrix over time are statistically real, or due to chance"
   ]
  },
  {
   "cell_type": "markdown",
   "metadata": {},
   "source": [
    "# Dependencies"
   ]
  },
  {
   "cell_type": "code",
   "execution_count": 1,
   "metadata": {
    "ExecuteTime": {
     "end_time": "2021-06-30T23:02:48.222118Z",
     "start_time": "2021-06-30T23:02:40.639283Z"
    }
   },
   "outputs": [],
   "source": [
    "#packages\n",
    "import pandas as pd\n",
    "import numpy as np\n",
    "import matplotlib.pyplot as plt\n",
    "import re\n",
    "import os\n",
    "from math import pi\n",
    "from itertools import combinations_with_replacement\n",
    "import pickle\n",
    "from IPython.display import display\n",
    "pd.set_option('display.max_rows', 150)\n",
    "pd.set_option('display.max_columns', 150)\n",
    "from natsort import natsorted\n",
    "import seaborn as sns\n",
    "import scipy.stats as stats \n",
    "from collections import Counter\n",
    "from itertools import groupby\n",
    "from operator import itemgetter\n",
    "from itertools import combinations\n",
    "import time\n",
    "import datetime\n",
    "import choix\n",
    "import plotly.graph_objects as go\n",
    "from tqdm import tqdm\n",
    "import glob\n",
    "import natsort\n",
    "from tabulate import tabulate\n",
    "from scipy.spatial import distance"
   ]
  },
  {
   "cell_type": "code",
   "execution_count": 4,
   "metadata": {
    "ExecuteTime": {
     "end_time": "2021-06-30T23:03:09.680645Z",
     "start_time": "2021-06-30T23:03:08.762267Z"
    }
   },
   "outputs": [],
   "source": [
    "allCounts=pd.read_csv(r\"C:\\Users\\al33m\\Box Sync\\Grzywacz Lab\\Experiment\\ForR\\SCP\\CSV\\allCounts.csv\")\n",
    "allDiffs=pd.read_csv(r\"C:\\Users\\al33m\\Box Sync\\Grzywacz Lab\\Experiment\\ForR\\SCP\\CSV\\allDiffs.csv\")\n",
    "allDiffsSummary_Consecutive=pd.read_csv(r\"C:\\Users\\al33m\\Box Sync\\Grzywacz Lab\\Experiment\\ForR\\SCP\\CSV\\allDiffsSummary_Consecutive.csv\")\n",
    "allDiffsSummary_Fixed=pd.read_csv(r\"C:\\Users\\al33m\\Box Sync\\Grzywacz Lab\\Experiment\\ForR\\SCP\\CSV\\allDiffsSummary_Fixed.csv\")\n",
    "allCountsSummary=pd.read_csv(r\"C:\\Users\\al33m\\Box Sync\\Grzywacz Lab\\Experiment\\ForR\\SCP\\CSV\\allCountsSummary.csv\")\n",
    "allPairsTogether=pd.read_csv(r\"C:\\Users\\al33m\\Box Sync\\Grzywacz Lab\\Experiment\\ForR\\SCP\\CSV\\newAllPairsTogether.csv\")\n",
    "ratingsMelt=pd.read_csv(r\"C:\\Users\\al33m\\Box Sync\\Grzywacz Lab\\Experiment\\ForR\\SCP\\CSV\\ratingsMelt.csv\")\n",
    "allPairsDistance=pd.read_csv(r\"C:\\Users\\al33m\\Box Sync\\Grzywacz Lab\\Experiment\\age_DataFiles\\Rfiles\\allPairsDistance_all.csv\")\n",
    "allPairsDistance_AF=pd.read_csv(r\"C:\\Users\\al33m\\Box Sync\\Grzywacz Lab\\Experiment\\age_DataFiles\\Rfiles\\allPairsDistance_AF.csv\")\n",
    "allPairsDistance_CON=pd.read_csv(r\"C:\\Users\\al33m\\Box Sync\\Grzywacz Lab\\Experiment\\age_DataFiles\\Rfiles\\allPairsDistance_CON.csv\")\n",
    "# prefDF=pd.read_csv(r\"C:\\Users\\al33m\\Box Sync\\Grzywacz Lab\\Experiment\\ForR\\SCP\\CSV\\prefDF.csv\")"
   ]
  },
  {
   "cell_type": "code",
   "execution_count": 6,
   "metadata": {
    "ExecuteTime": {
     "end_time": "2021-06-30T23:04:27.239533Z",
     "start_time": "2021-06-30T23:04:16.787611Z"
    }
   },
   "outputs": [
    {
     "name": "stderr",
     "output_type": "stream",
     "text": [
      "100%|██████████████████████████████████████████████████████████████████████████████████| 85/85 [00:10<00:00,  8.15it/s]\n"
     ]
    }
   ],
   "source": [
    "finalSubs=['sub'+str(i) for i in np.concatenate([np.arange(1,84),np.arange(85,97)])]#removed 84 which is random\n",
    "\n",
    "[finalSubs.remove(i) for i in ['sub16', 'sub20', 'sub31', 'sub42', 'sub45', 'sub60', 'sub64',\n",
    "       'sub73', 'sub75', 'sub79']]\n",
    "os.chdir(r\"C:\\Users\\al33m\\Box Sync\\Grzywacz Lab\\Experiment\\Data_Files\\scp\\Visit5\\pickle\")\n",
    "#subject class for loading\n",
    "class Subject():\n",
    "    def __init__(self,subname):\n",
    "        self.subname=subname\n",
    "#load\n",
    "Subs={}\n",
    "for i in tqdm(finalSubs):\n",
    "    with open(i+'.pkl', 'rb') as input:\n",
    "        Subs[i] = pickle.load(input)"
   ]
  },
  {
   "cell_type": "code",
   "execution_count": 65,
   "metadata": {
    "ExecuteTime": {
     "end_time": "2021-06-22T15:55:36.413647Z",
     "start_time": "2021-06-22T15:55:36.293234Z"
    }
   },
   "outputs": [],
   "source": [
    "# prefDF.to_csv(r\"C:\\Users\\al33m\\Box Sync\\Grzywacz Lab\\Experiment\\ForR\\SCP\\CSV\\prefDF.csv\",index=False)"
   ]
  },
  {
   "cell_type": "code",
   "execution_count": 7,
   "metadata": {
    "ExecuteTime": {
     "end_time": "2021-06-30T23:04:32.313852Z",
     "start_time": "2021-06-30T23:04:29.480257Z"
    }
   },
   "outputs": [],
   "source": [
    "changeDict=dict(zip(finalSubs,[allPairsTogether.groupby('subname').get_group(i).change.values[0] for i in finalSubs]))\n",
    "\n",
    "subSortAF=allPairsTogether.loc[allPairsTogether['class']=='Fixed'].groupby('subnum').agg({'value':'mean'})#getting instability values\n",
    "#sort\n",
    "subSortAF.sort_values(by='value',inplace=True)\n",
    "subSortAFDict=dict(zip(subSortAF.index,np.unique(allPairsTogether['subnum']))) #from af to subnum"
   ]
  },
  {
   "cell_type": "markdown",
   "metadata": {},
   "source": [
    "# Package"
   ]
  },
  {
   "cell_type": "code",
   "execution_count": 8,
   "metadata": {
    "ExecuteTime": {
     "end_time": "2021-06-30T23:04:36.086908Z",
     "start_time": "2021-06-30T23:04:35.740833Z"
    }
   },
   "outputs": [],
   "source": [
    "class PreferenceConsistency():\n",
    "    def __init__(self,subname):\n",
    "        \n",
    "        p=re.compile('\\d+')\n",
    "        def binarizer(choiceArray):\n",
    "            \"\"\" takes each column, turns the alternatives \n",
    "            to 0 and 1 respectively and them maps it\n",
    "            on to that column\"\"\"\n",
    "            cols=choiceArray.name\n",
    "            binar=dict(zip(cols,[0,1]))\n",
    "            return([binar[i] for i in choiceArray.values])\n",
    "        \n",
    "        self.subname=subname\n",
    "        \n",
    "        \"\"\" shirts \"\"\"  \n",
    "        self.Shirts_C=Subs[self.subname].Shirts_df_merged[['pre_winner','post_winner','w1_winner','w2_winner','w3_winner','w4_winner']].T\n",
    "        self.Shirts_C=self.Shirts_C.applymap(lambda x: int(re.findall(p,str(x))[0]))\n",
    "        self.Shirts_C.columns=[i for i in zip(Subs[self.subname].Shirts_df_merged['Lint'].values,Subs[self.subname].Shirts_df_merged['Rint'].values)]\n",
    "\n",
    "        \n",
    "        self.Shirts_C_binarized=self.Shirts_C.apply(lambda x: binarizer(x),axis=0)\n",
    "        \n",
    "        self.Shirts_mySum=np.sum(self.Shirts_C_binarized)\n",
    "        self.Shirts_Pr=self.Shirts_mySum/6\n",
    "        self.Shirts_mu=2*(np.sum( self.Shirts_Pr*(1- self.Shirts_Pr)))\n",
    "        self.Shirts_var=np.sqrt(np.sum(2*(self.Shirts_Pr*(1-self.Shirts_Pr))*((self.Shirts_Pr**2)+(1-self.Shirts_Pr)**2)))\n",
    "        \n",
    "        \"\"\"distance\"\"\"\n",
    "        self.Shirts_AB_dist=np.sum(np.abs(self.Shirts_C_binarized.loc['pre_winner']-self.Shirts_C_binarized.loc['post_winner']))\n",
    "        self.Shirts_AC_dist=np.sum(np.abs(self.Shirts_C_binarized.loc['pre_winner']-self.Shirts_C_binarized.loc['w1_winner']))\n",
    "        self.Shirts_AD_dist=np.sum(np.abs(self.Shirts_C_binarized.loc['pre_winner']-self.Shirts_C_binarized.loc['w2_winner']))\n",
    "        self.Shirts_AE_dist=np.sum(np.abs(self.Shirts_C_binarized.loc['pre_winner']-self.Shirts_C_binarized.loc['w3_winner']))\n",
    "        self.Shirts_AF_dist=np.sum(np.abs(self.Shirts_C_binarized.loc['pre_winner']-self.Shirts_C_binarized.loc['w4_winner']))\n",
    "        \n",
    "        self.Shirts_BC_dist=np.sum(np.abs(self.Shirts_C_binarized.loc['post_winner']-self.Shirts_C_binarized.loc['w1_winner']))\n",
    "        self.Shirts_BD_dist=np.sum(np.abs(self.Shirts_C_binarized.loc['post_winner']-self.Shirts_C_binarized.loc['w2_winner']))\n",
    "        self.Shirts_BE_dist=np.sum(np.abs(self.Shirts_C_binarized.loc['post_winner']-self.Shirts_C_binarized.loc['w3_winner']))\n",
    "        self.Shirts_BF_dist=np.sum(np.abs(self.Shirts_C_binarized.loc['post_winner']-self.Shirts_C_binarized.loc['w4_winner']))\n",
    "\n",
    "        self.Shirts_CD_dist=np.sum(np.abs(self.Shirts_C_binarized.loc['w1_winner']-self.Shirts_C_binarized.loc['w2_winner']))\n",
    "        self.Shirts_CE_dist=np.sum(np.abs(self.Shirts_C_binarized.loc['w1_winner']-self.Shirts_C_binarized.loc['w3_winner']))\n",
    "        self.Shirts_CF_dist=np.sum(np.abs(self.Shirts_C_binarized.loc['w1_winner']-self.Shirts_C_binarized.loc['w4_winner']))\n",
    "\n",
    "        self.Shirts_DE_dist=np.sum(np.abs(self.Shirts_C_binarized.loc['w2_winner']-self.Shirts_C_binarized.loc['w3_winner']))\n",
    "        self.Shirts_DF_dist=np.sum(np.abs(self.Shirts_C_binarized.loc['w2_winner']-self.Shirts_C_binarized.loc['w4_winner']))\n",
    "\n",
    "        self.Shirts_EF_dist=np.sum(np.abs(self.Shirts_C_binarized.loc['w3_winner']-self.Shirts_C_binarized.loc['w4_winner']))\n",
    "\n",
    "        \"\"\" stats \"\"\"\n",
    "        #6/21 -.5 for continuity correction\n",
    "        self.Shirts_AB_Z=(self.Shirts_AB_dist-self.Shirts_mu-.5)/self.Shirts_var\n",
    "        self.Shirts_AC_Z=(self.Shirts_AC_dist-self.Shirts_mu-.5)/self.Shirts_var\n",
    "        self.Shirts_AD_Z=(self.Shirts_AD_dist-self.Shirts_mu-.5)/self.Shirts_var\n",
    "        self.Shirts_AE_Z=(self.Shirts_AE_dist-self.Shirts_mu-.5)/self.Shirts_var\n",
    "        self.Shirts_AF_Z=(self.Shirts_AF_dist-self.Shirts_mu-.5)/self.Shirts_var\n",
    "        \n",
    "        self.Shirts_BC_Z=(self.Shirts_BC_dist-self.Shirts_mu-.5)/self.Shirts_var\n",
    "        self.Shirts_BD_Z=(self.Shirts_BD_dist-self.Shirts_mu-.5)/self.Shirts_var\n",
    "        self.Shirts_BE_Z=(self.Shirts_BE_dist-self.Shirts_mu-.5)/self.Shirts_var\n",
    "        self.Shirts_BF_Z=(self.Shirts_BF_dist-self.Shirts_mu-.5)/self.Shirts_var\n",
    "        \n",
    "        self.Shirts_CD_Z=(self.Shirts_CD_dist-self.Shirts_mu-.5)/self.Shirts_var\n",
    "        self.Shirts_CE_Z=(self.Shirts_CE_dist-self.Shirts_mu-.5)/self.Shirts_var\n",
    "        self.Shirts_CF_Z=(self.Shirts_CF_dist-self.Shirts_mu-.5)/self.Shirts_var\n",
    "        \n",
    "        self.Shirts_DE_Z=(self.Shirts_DE_dist-self.Shirts_mu-.5)/self.Shirts_var\n",
    "        self.Shirts_DF_Z=(self.Shirts_DF_dist-self.Shirts_mu-.5)/self.Shirts_var\n",
    "        \n",
    "        self.Shirts_EF_Z=(self.Shirts_EF_dist-self.Shirts_mu-.5)/self.Shirts_var\n",
    "        \n",
    "\n",
    "        self.Shirts_AB_pval=1-stats.norm.cdf(self.Shirts_AB_Z)\n",
    "        self.Shirts_AC_pval=1-stats.norm.cdf(self.Shirts_AC_Z)\n",
    "        self.Shirts_AD_pval=1-stats.norm.cdf(self.Shirts_AD_Z)\n",
    "        self.Shirts_AE_pval=1-stats.norm.cdf(self.Shirts_AE_Z)\n",
    "        self.Shirts_AF_pval=1-stats.norm.cdf(self.Shirts_AF_Z)\n",
    "        \n",
    "        self.Shirts_BC_pval=1-stats.norm.cdf(self.Shirts_BC_Z)\n",
    "        self.Shirts_BD_pval=1-stats.norm.cdf(self.Shirts_BD_Z)\n",
    "        self.Shirts_BE_pval=1-stats.norm.cdf(self.Shirts_BE_Z)\n",
    "        self.Shirts_BF_pval=1-stats.norm.cdf(self.Shirts_BF_Z)\n",
    "        \n",
    "        self.Shirts_CD_pval=1-stats.norm.cdf(self.Shirts_CD_Z)\n",
    "        self.Shirts_CE_pval=1-stats.norm.cdf(self.Shirts_CE_Z)\n",
    "        self.Shirts_CF_pval=1-stats.norm.cdf(self.Shirts_CF_Z)\n",
    "        \n",
    "        self.Shirts_DE_pval=1-stats.norm.cdf(self.Shirts_DE_Z)\n",
    "        self.Shirts_DF_pval=1-stats.norm.cdf(self.Shirts_DF_Z)\n",
    "\n",
    "        self.Shirts_EF_pval=1-stats.norm.cdf(self.Shirts_EF_Z)\n",
    "\n",
    "        self.Shirts_prefDF=pd.DataFrame({'timepoint':['AB','AC','AD','AE','AF','BC','BD','BE','BF','CD','CE','CF','DE','DF','EF'],\n",
    "                                         'session': ['1A','1A','1A','1A','1A','1B','1B','1B','1B','2','2','2','3','3','4'],\n",
    "                                         'elapTime':['20min','1wk','2wks','3wks','4wks','1wk','2wks','3wks','4wks','1wk','2wks','3wks','1wk','2wks','1wk'],\n",
    "                                         'class':['Fixed','Fixed','Fixed','Fixed','Fixed','Consecutive','Misc','Misc','Misc','Consecutive','Misc','Misc','Consecutive','Misc','Consecutive'],\n",
    "                                         'choices':[1,2,3,4,5,2,3,4,5,3,4,5,4,5,5],\n",
    "                  'distances':[self.Shirts_AB_dist,self.Shirts_AC_dist,self.Shirts_AD_dist,self.Shirts_AE_dist,self.Shirts_AF_dist,\n",
    "                              self.Shirts_BC_dist,self.Shirts_BD_dist,self.Shirts_BE_dist,self.Shirts_BF_dist,\n",
    "                              self.Shirts_CD_dist,self.Shirts_CE_dist,self.Shirts_CF_dist,\n",
    "                              self.Shirts_DE_dist,self.Shirts_DF_dist,\n",
    "                              self.Shirts_EF_dist],\n",
    "                  'Z':[self.Shirts_AB_Z,self.Shirts_AC_Z,self.Shirts_AD_Z,self.Shirts_AE_Z,self.Shirts_AF_Z,\n",
    "                      self.Shirts_BC_Z,self.Shirts_BD_Z,self.Shirts_BE_Z,self.Shirts_BF_Z,\n",
    "                      self.Shirts_CD_Z,self.Shirts_CE_Z,self.Shirts_CF_Z,\n",
    "                      self.Shirts_DE_Z,self.Shirts_DF_Z,\n",
    "                      self.Shirts_EF_Z],\n",
    "                 'pval':[self.Shirts_AB_pval,self.Shirts_AC_pval,self.Shirts_AD_pval,self.Shirts_AE_pval,self.Shirts_AF_pval,\n",
    "                        self.Shirts_BC_pval,self.Shirts_BD_pval,self.Shirts_BE_pval,self.Shirts_BF_pval,\n",
    "                        self.Shirts_CD_pval,self.Shirts_CE_pval,self.Shirts_CF_pval,\n",
    "                        self.Shirts_DE_pval,self.Shirts_DF_pval,\n",
    "                        self.Shirts_EF_pval]})\n",
    "        \n",
    "        \"\"\" Cars \"\"\"  \n",
    "        self.Cars_C=Subs[self.subname].Cars_df_merged[['pre_winner','post_winner','w1_winner','w2_winner','w3_winner','w4_winner']].T\n",
    "        self.Cars_C=self.Cars_C.applymap(lambda x: int(re.findall(p,str(x))[0]))\n",
    "        self.Cars_C.columns=[i for i in zip(Subs[self.subname].Cars_df_merged['Lint'].values,Subs[self.subname].Cars_df_merged['Rint'].values)]\n",
    "\n",
    "        \n",
    "        self.Cars_C_binarized=self.Cars_C.apply(lambda x: binarizer(x),axis=0)\n",
    "        \n",
    "        self.Cars_mySum=np.sum(self.Cars_C_binarized)\n",
    "        self.Cars_Pr=self.Cars_mySum/6\n",
    "        self.Cars_mu=2*(np.sum( self.Cars_Pr*(1- self.Cars_Pr)))\n",
    "        self.Cars_var=np.sqrt(np.sum(2*(self.Cars_Pr*(1-self.Cars_Pr))*((self.Cars_Pr**2)+(1-self.Cars_Pr)**2)))\n",
    "        \n",
    "        \"\"\"distance\"\"\"\n",
    "        self.Cars_AB_dist=np.sum(np.abs(self.Cars_C_binarized.loc['pre_winner']-self.Cars_C_binarized.loc['post_winner']))\n",
    "        self.Cars_AC_dist=np.sum(np.abs(self.Cars_C_binarized.loc['pre_winner']-self.Cars_C_binarized.loc['w1_winner']))\n",
    "        self.Cars_AD_dist=np.sum(np.abs(self.Cars_C_binarized.loc['pre_winner']-self.Cars_C_binarized.loc['w2_winner']))\n",
    "        self.Cars_AE_dist=np.sum(np.abs(self.Cars_C_binarized.loc['pre_winner']-self.Cars_C_binarized.loc['w3_winner']))\n",
    "        self.Cars_AF_dist=np.sum(np.abs(self.Cars_C_binarized.loc['pre_winner']-self.Cars_C_binarized.loc['w4_winner']))\n",
    "        \n",
    "        self.Cars_BC_dist=np.sum(np.abs(self.Cars_C_binarized.loc['post_winner']-self.Cars_C_binarized.loc['w1_winner']))\n",
    "        self.Cars_BD_dist=np.sum(np.abs(self.Cars_C_binarized.loc['post_winner']-self.Cars_C_binarized.loc['w2_winner']))\n",
    "        self.Cars_BE_dist=np.sum(np.abs(self.Cars_C_binarized.loc['post_winner']-self.Cars_C_binarized.loc['w3_winner']))\n",
    "        self.Cars_BF_dist=np.sum(np.abs(self.Cars_C_binarized.loc['post_winner']-self.Cars_C_binarized.loc['w4_winner']))\n",
    "\n",
    "        self.Cars_CD_dist=np.sum(np.abs(self.Cars_C_binarized.loc['w1_winner']-self.Cars_C_binarized.loc['w2_winner']))\n",
    "        self.Cars_CE_dist=np.sum(np.abs(self.Cars_C_binarized.loc['w1_winner']-self.Cars_C_binarized.loc['w3_winner']))\n",
    "        self.Cars_CF_dist=np.sum(np.abs(self.Cars_C_binarized.loc['w1_winner']-self.Cars_C_binarized.loc['w4_winner']))\n",
    "\n",
    "        self.Cars_DE_dist=np.sum(np.abs(self.Cars_C_binarized.loc['w2_winner']-self.Cars_C_binarized.loc['w3_winner']))\n",
    "        self.Cars_DF_dist=np.sum(np.abs(self.Cars_C_binarized.loc['w2_winner']-self.Cars_C_binarized.loc['w4_winner']))\n",
    "\n",
    "        self.Cars_EF_dist=np.sum(np.abs(self.Cars_C_binarized.loc['w3_winner']-self.Cars_C_binarized.loc['w4_winner']))\n",
    "\n",
    "        \"\"\" stats \"\"\"\n",
    "        self.Cars_AB_Z=(self.Cars_AB_dist-self.Cars_mu-.5)/self.Cars_var\n",
    "        self.Cars_AC_Z=(self.Cars_AC_dist-self.Cars_mu-.5)/self.Cars_var\n",
    "        self.Cars_AD_Z=(self.Cars_AD_dist-self.Cars_mu-.5)/self.Cars_var\n",
    "        self.Cars_AE_Z=(self.Cars_AE_dist-self.Cars_mu-.5)/self.Cars_var\n",
    "        self.Cars_AF_Z=(self.Cars_AF_dist-self.Cars_mu-.5)/self.Cars_var\n",
    "        \n",
    "        self.Cars_BC_Z=(self.Cars_BC_dist-self.Cars_mu-.5)/self.Cars_var\n",
    "        self.Cars_BD_Z=(self.Cars_BD_dist-self.Cars_mu-.5)/self.Cars_var\n",
    "        self.Cars_BE_Z=(self.Cars_BE_dist-self.Cars_mu-.5)/self.Cars_var\n",
    "        self.Cars_BF_Z=(self.Cars_BF_dist-self.Cars_mu-.5)/self.Cars_var\n",
    "        \n",
    "        self.Cars_CD_Z=(self.Cars_CD_dist-self.Cars_mu-.5)/self.Cars_var\n",
    "        self.Cars_CE_Z=(self.Cars_CE_dist-self.Cars_mu-.5)/self.Cars_var\n",
    "        self.Cars_CF_Z=(self.Cars_CF_dist-self.Cars_mu-.5)/self.Cars_var\n",
    "        \n",
    "        self.Cars_DE_Z=(self.Cars_DE_dist-self.Cars_mu-.5)/self.Cars_var\n",
    "        self.Cars_DF_Z=(self.Cars_DF_dist-self.Cars_mu-.5)/self.Cars_var\n",
    "        \n",
    "        self.Cars_EF_Z=(self.Cars_EF_dist-self.Cars_mu-.5)/self.Cars_var\n",
    "        \n",
    "\n",
    "        self.Cars_AB_pval=1-stats.norm.cdf(self.Cars_AB_Z)\n",
    "        self.Cars_AC_pval=1-stats.norm.cdf(self.Cars_AC_Z)\n",
    "        self.Cars_AD_pval=1-stats.norm.cdf(self.Cars_AD_Z)\n",
    "        self.Cars_AE_pval=1-stats.norm.cdf(self.Cars_AE_Z)\n",
    "        self.Cars_AF_pval=1-stats.norm.cdf(self.Cars_AF_Z)\n",
    "        \n",
    "        self.Cars_BC_pval=1-stats.norm.cdf(self.Cars_BC_Z)\n",
    "        self.Cars_BD_pval=1-stats.norm.cdf(self.Cars_BD_Z)\n",
    "        self.Cars_BE_pval=1-stats.norm.cdf(self.Cars_BE_Z)\n",
    "        self.Cars_BF_pval=1-stats.norm.cdf(self.Cars_BF_Z)\n",
    "        \n",
    "        self.Cars_CD_pval=1-stats.norm.cdf(self.Cars_CD_Z)\n",
    "        self.Cars_CE_pval=1-stats.norm.cdf(self.Cars_CE_Z)\n",
    "        self.Cars_CF_pval=1-stats.norm.cdf(self.Cars_CF_Z)\n",
    "        \n",
    "        self.Cars_DE_pval=1-stats.norm.cdf(self.Cars_DE_Z)\n",
    "        self.Cars_DF_pval=1-stats.norm.cdf(self.Cars_DF_Z)\n",
    "\n",
    "        self.Cars_EF_pval=1-stats.norm.cdf(self.Cars_EF_Z)\n",
    "\n",
    "        self.Cars_prefDF=pd.DataFrame({'timepoint':['AB','AC','AD','AE','AF','BC','BD','BE','BF','CD','CE','CF','DE','DF','EF'],\n",
    "                                       'session': ['1A','1A','1A','1A','1A','1B','1B','1B','1B','2','2','2','3','3','4'],\n",
    "                                       'elapTime':['20min','1wk','2wks','3wks','4wks','1wk','2wks','3wks','4wks','1wk','2wks','3wks','1wk','2wks','1wk'],\n",
    "                                        'class':['Fixed','Fixed','Fixed','Fixed','Fixed','Consecutive','Misc','Misc','Misc','Consecutive','Misc','Misc','Consecutive','Misc','Consecutive'],\n",
    "                                       'choices':[1,2,3,4,5,2,3,4,5,3,4,5,4,5,5],\n",
    "                  'distances':[self.Cars_AB_dist,self.Cars_AC_dist,self.Cars_AD_dist,self.Cars_AE_dist,self.Cars_AF_dist,\n",
    "                              self.Cars_BC_dist,self.Cars_BD_dist,self.Cars_BE_dist,self.Cars_BF_dist,\n",
    "                              self.Cars_CD_dist,self.Cars_CE_dist,self.Cars_CF_dist,\n",
    "                              self.Cars_DE_dist,self.Cars_DF_dist,\n",
    "                              self.Cars_EF_dist],\n",
    "                  'Z':[self.Cars_AB_Z,self.Cars_AC_Z,self.Cars_AD_Z,self.Cars_AE_Z,self.Cars_AF_Z,\n",
    "                      self.Cars_BC_Z,self.Cars_BD_Z,self.Cars_BE_Z,self.Cars_BF_Z,\n",
    "                      self.Cars_CD_Z,self.Cars_CE_Z,self.Cars_CF_Z,\n",
    "                      self.Cars_DE_Z,self.Cars_DF_Z,\n",
    "                      self.Cars_EF_Z],\n",
    "                 'pval':[self.Cars_AB_pval,self.Cars_AC_pval,self.Cars_AD_pval,self.Cars_AE_pval,self.Cars_AF_pval,\n",
    "                        self.Cars_BC_pval,self.Cars_BD_pval,self.Cars_BE_pval,self.Cars_BF_pval,\n",
    "                        self.Cars_CD_pval,self.Cars_CE_pval,self.Cars_CF_pval,\n",
    "                        self.Cars_DE_pval,self.Cars_DF_pval,\n",
    "                        self.Cars_EF_pval]})\n",
    "        \n",
    "        \"\"\" Phones \"\"\"  \n",
    "        self.Phones_C=Subs[self.subname].Phones_df_merged[['pre_winner','post_winner','w1_winner','w2_winner','w3_winner','w4_winner']].T\n",
    "        self.Phones_C=self.Phones_C.applymap(lambda x: int(re.findall(p,str(x))[0]))\n",
    "        self.Phones_C.columns=[i for i in zip(Subs[self.subname].Phones_df_merged['Lint'].values,Subs[self.subname].Phones_df_merged['Rint'].values)]\n",
    "\n",
    "        \n",
    "        self.Phones_C_binarized=self.Phones_C.apply(lambda x: binarizer(x),axis=0)\n",
    "        \n",
    "        self.Phones_mySum=np.sum(self.Phones_C_binarized)\n",
    "        self.Phones_Pr=self.Phones_mySum/6\n",
    "        self.Phones_mu=2*(np.sum( self.Phones_Pr*(1- self.Phones_Pr)))\n",
    "        self.Phones_var=np.sqrt(np.sum(2*(self.Phones_Pr*(1-self.Phones_Pr))*((self.Phones_Pr**2)+(1-self.Phones_Pr)**2)))\n",
    "        \n",
    "        \"\"\"distance\"\"\"\n",
    "        self.Phones_AB_dist=np.sum(np.abs(self.Phones_C_binarized.loc['pre_winner']-self.Phones_C_binarized.loc['post_winner']))\n",
    "        self.Phones_AC_dist=np.sum(np.abs(self.Phones_C_binarized.loc['pre_winner']-self.Phones_C_binarized.loc['w1_winner']))\n",
    "        self.Phones_AD_dist=np.sum(np.abs(self.Phones_C_binarized.loc['pre_winner']-self.Phones_C_binarized.loc['w2_winner']))\n",
    "        self.Phones_AE_dist=np.sum(np.abs(self.Phones_C_binarized.loc['pre_winner']-self.Phones_C_binarized.loc['w3_winner']))\n",
    "        self.Phones_AF_dist=np.sum(np.abs(self.Phones_C_binarized.loc['pre_winner']-self.Phones_C_binarized.loc['w4_winner']))\n",
    "        \n",
    "        self.Phones_BC_dist=np.sum(np.abs(self.Phones_C_binarized.loc['post_winner']-self.Phones_C_binarized.loc['w1_winner']))\n",
    "        self.Phones_BD_dist=np.sum(np.abs(self.Phones_C_binarized.loc['post_winner']-self.Phones_C_binarized.loc['w2_winner']))\n",
    "        self.Phones_BE_dist=np.sum(np.abs(self.Phones_C_binarized.loc['post_winner']-self.Phones_C_binarized.loc['w3_winner']))\n",
    "        self.Phones_BF_dist=np.sum(np.abs(self.Phones_C_binarized.loc['post_winner']-self.Phones_C_binarized.loc['w4_winner']))\n",
    "\n",
    "        self.Phones_CD_dist=np.sum(np.abs(self.Phones_C_binarized.loc['w1_winner']-self.Phones_C_binarized.loc['w2_winner']))\n",
    "        self.Phones_CE_dist=np.sum(np.abs(self.Phones_C_binarized.loc['w1_winner']-self.Phones_C_binarized.loc['w3_winner']))\n",
    "        self.Phones_CF_dist=np.sum(np.abs(self.Phones_C_binarized.loc['w1_winner']-self.Phones_C_binarized.loc['w4_winner']))\n",
    "\n",
    "        self.Phones_DE_dist=np.sum(np.abs(self.Phones_C_binarized.loc['w2_winner']-self.Phones_C_binarized.loc['w3_winner']))\n",
    "        self.Phones_DF_dist=np.sum(np.abs(self.Phones_C_binarized.loc['w2_winner']-self.Phones_C_binarized.loc['w4_winner']))\n",
    "\n",
    "        self.Phones_EF_dist=np.sum(np.abs(self.Phones_C_binarized.loc['w3_winner']-self.Phones_C_binarized.loc['w4_winner']))\n",
    "\n",
    "        \"\"\" stats \"\"\"\n",
    "        self.Phones_AB_Z=(self.Phones_AB_dist-self.Phones_mu-.5)/self.Phones_var\n",
    "        self.Phones_AC_Z=(self.Phones_AC_dist-self.Phones_mu-.5)/self.Phones_var\n",
    "        self.Phones_AD_Z=(self.Phones_AD_dist-self.Phones_mu-.5)/self.Phones_var\n",
    "        self.Phones_AE_Z=(self.Phones_AE_dist-self.Phones_mu-.5)/self.Phones_var\n",
    "        self.Phones_AF_Z=(self.Phones_AF_dist-self.Phones_mu-.5)/self.Phones_var\n",
    "        \n",
    "        self.Phones_BC_Z=(self.Phones_BC_dist-self.Phones_mu-.5)/self.Phones_var\n",
    "        self.Phones_BD_Z=(self.Phones_BD_dist-self.Phones_mu-.5)/self.Phones_var\n",
    "        self.Phones_BE_Z=(self.Phones_BE_dist-self.Phones_mu-.5)/self.Phones_var\n",
    "        self.Phones_BF_Z=(self.Phones_BF_dist-self.Phones_mu-.5)/self.Phones_var\n",
    "        \n",
    "        self.Phones_CD_Z=(self.Phones_CD_dist-self.Phones_mu-.5)/self.Phones_var\n",
    "        self.Phones_CE_Z=(self.Phones_CE_dist-self.Phones_mu-.5)/self.Phones_var\n",
    "        self.Phones_CF_Z=(self.Phones_CF_dist-self.Phones_mu-.5)/self.Phones_var\n",
    "        \n",
    "        self.Phones_DE_Z=(self.Phones_DE_dist-self.Phones_mu-.5)/self.Phones_var\n",
    "        self.Phones_DF_Z=(self.Phones_DF_dist-self.Phones_mu-.5)/self.Phones_var\n",
    "        \n",
    "        self.Phones_EF_Z=(self.Phones_EF_dist-self.Phones_mu-.5)/self.Phones_var\n",
    "        \n",
    "\n",
    "        self.Phones_AB_pval=1-stats.norm.cdf(self.Phones_AB_Z)\n",
    "        self.Phones_AC_pval=1-stats.norm.cdf(self.Phones_AC_Z)\n",
    "        self.Phones_AD_pval=1-stats.norm.cdf(self.Phones_AD_Z)\n",
    "        self.Phones_AE_pval=1-stats.norm.cdf(self.Phones_AE_Z)\n",
    "        self.Phones_AF_pval=1-stats.norm.cdf(self.Phones_AF_Z)\n",
    "        \n",
    "        self.Phones_BC_pval=1-stats.norm.cdf(self.Phones_BC_Z)\n",
    "        self.Phones_BD_pval=1-stats.norm.cdf(self.Phones_BD_Z)\n",
    "        self.Phones_BE_pval=1-stats.norm.cdf(self.Phones_BE_Z)\n",
    "        self.Phones_BF_pval=1-stats.norm.cdf(self.Phones_BF_Z)\n",
    "        \n",
    "        self.Phones_CD_pval=1-stats.norm.cdf(self.Phones_CD_Z)\n",
    "        self.Phones_CE_pval=1-stats.norm.cdf(self.Phones_CE_Z)\n",
    "        self.Phones_CF_pval=1-stats.norm.cdf(self.Phones_CF_Z)\n",
    "        \n",
    "        self.Phones_DE_pval=1-stats.norm.cdf(self.Phones_DE_Z)\n",
    "        self.Phones_DF_pval=1-stats.norm.cdf(self.Phones_DF_Z)\n",
    "\n",
    "        self.Phones_EF_pval=1-stats.norm.cdf(self.Phones_EF_Z)\n",
    "\n",
    "        self.Phones_prefDF=pd.DataFrame({'timepoint':['AB','AC','AD','AE','AF','BC','BD','BE','BF','CD','CE','CF','DE','DF','EF'],\n",
    "                                         'session': ['1A','1A','1A','1A','1A','1B','1B','1B','1B','2','2','2','3','3','4'],\n",
    "                                         'elapTime':['20min','1wk','2wks','3wks','4wks','1wk','2wks','3wks','4wks','1wk','2wks','3wks','1wk','2wks','1wk'],\n",
    "                                         'class':['Fixed','Fixed','Fixed','Fixed','Fixed','Consecutive','Misc','Misc','Misc','Consecutive','Misc','Misc','Consecutive','Misc','Consecutive'],\n",
    "                                         'choices':[1,2,3,4,5,2,3,4,5,3,4,5,4,5,5],\n",
    "                  'distances':[self.Phones_AB_dist,self.Phones_AC_dist,self.Phones_AD_dist,self.Phones_AE_dist,self.Phones_AF_dist,\n",
    "                              self.Phones_BC_dist,self.Phones_BD_dist,self.Phones_BE_dist,self.Phones_BF_dist,\n",
    "                              self.Phones_CD_dist,self.Phones_CE_dist,self.Phones_CF_dist,\n",
    "                              self.Phones_DE_dist,self.Phones_DF_dist,\n",
    "                              self.Phones_EF_dist],\n",
    "                  'Z':[self.Phones_AB_Z,self.Phones_AC_Z,self.Phones_AD_Z,self.Phones_AE_Z,self.Phones_AF_Z,\n",
    "                      self.Phones_BC_Z,self.Phones_BD_Z,self.Phones_BE_Z,self.Phones_BF_Z,\n",
    "                      self.Phones_CD_Z,self.Phones_CE_Z,self.Phones_CF_Z,\n",
    "                      self.Phones_DE_Z,self.Phones_DF_Z,\n",
    "                      self.Phones_EF_Z],\n",
    "                 'pval':[self.Phones_AB_pval,self.Phones_AC_pval,self.Phones_AD_pval,self.Phones_AE_pval,self.Phones_AF_pval,\n",
    "                        self.Phones_BC_pval,self.Phones_BD_pval,self.Phones_BE_pval,self.Phones_BF_pval,\n",
    "                        self.Phones_CD_pval,self.Phones_CE_pval,self.Phones_CF_pval,\n",
    "                        self.Phones_DE_pval,self.Phones_DF_pval,\n",
    "                        self.Phones_EF_pval]})\n",
    "\n",
    "    \n"
   ]
  },
  {
   "cell_type": "markdown",
   "metadata": {},
   "source": [
    "# Run "
   ]
  },
  {
   "cell_type": "code",
   "execution_count": 9,
   "metadata": {
    "ExecuteTime": {
     "end_time": "2021-06-30T23:04:56.208910Z",
     "start_time": "2021-06-30T23:04:40.034681Z"
    }
   },
   "outputs": [
    {
     "name": "stderr",
     "output_type": "stream",
     "text": [
      "100%|██████████████████████████████████████████████████████████████████████████████████| 85/85 [00:16<00:00,  5.26it/s]\n"
     ]
    }
   ],
   "source": [
    "prefDICT={}\n",
    "for i in tqdm(finalSubs):\n",
    "    prefDICT[i]=PreferenceConsistency(i)"
   ]
  },
  {
   "cell_type": "code",
   "execution_count": 7,
   "metadata": {
    "ExecuteTime": {
     "end_time": "2021-06-29T19:37:34.821576Z",
     "start_time": "2021-06-29T19:37:34.787668Z"
    }
   },
   "outputs": [
    {
     "data": {
      "text/html": [
       "<div>\n",
       "<style scoped>\n",
       "    .dataframe tbody tr th:only-of-type {\n",
       "        vertical-align: middle;\n",
       "    }\n",
       "\n",
       "    .dataframe tbody tr th {\n",
       "        vertical-align: top;\n",
       "    }\n",
       "\n",
       "    .dataframe thead th {\n",
       "        text-align: right;\n",
       "    }\n",
       "</style>\n",
       "<table border=\"1\" class=\"dataframe\">\n",
       "  <thead>\n",
       "    <tr style=\"text-align: right;\">\n",
       "      <th></th>\n",
       "      <th>timepoint</th>\n",
       "      <th>session</th>\n",
       "      <th>elapTime</th>\n",
       "      <th>class</th>\n",
       "      <th>choices</th>\n",
       "      <th>distances</th>\n",
       "      <th>Z</th>\n",
       "      <th>pval</th>\n",
       "    </tr>\n",
       "  </thead>\n",
       "  <tbody>\n",
       "    <tr>\n",
       "      <th>0</th>\n",
       "      <td>AB</td>\n",
       "      <td>1A</td>\n",
       "      <td>20min</td>\n",
       "      <td>Fixed</td>\n",
       "      <td>1</td>\n",
       "      <td>19</td>\n",
       "      <td>-0.942101</td>\n",
       "      <td>0.826930</td>\n",
       "    </tr>\n",
       "    <tr>\n",
       "      <th>1</th>\n",
       "      <td>AC</td>\n",
       "      <td>1A</td>\n",
       "      <td>1wk</td>\n",
       "      <td>Fixed</td>\n",
       "      <td>2</td>\n",
       "      <td>12</td>\n",
       "      <td>-2.856694</td>\n",
       "      <td>0.997860</td>\n",
       "    </tr>\n",
       "    <tr>\n",
       "      <th>2</th>\n",
       "      <td>AD</td>\n",
       "      <td>1A</td>\n",
       "      <td>2wks</td>\n",
       "      <td>Fixed</td>\n",
       "      <td>3</td>\n",
       "      <td>29</td>\n",
       "      <td>1.793031</td>\n",
       "      <td>0.036484</td>\n",
       "    </tr>\n",
       "    <tr>\n",
       "      <th>3</th>\n",
       "      <td>AE</td>\n",
       "      <td>1A</td>\n",
       "      <td>3wks</td>\n",
       "      <td>Fixed</td>\n",
       "      <td>4</td>\n",
       "      <td>27</td>\n",
       "      <td>1.246005</td>\n",
       "      <td>0.106381</td>\n",
       "    </tr>\n",
       "    <tr>\n",
       "      <th>4</th>\n",
       "      <td>AF</td>\n",
       "      <td>1A</td>\n",
       "      <td>4wks</td>\n",
       "      <td>Fixed</td>\n",
       "      <td>5</td>\n",
       "      <td>26</td>\n",
       "      <td>0.972492</td>\n",
       "      <td>0.165403</td>\n",
       "    </tr>\n",
       "    <tr>\n",
       "      <th>5</th>\n",
       "      <td>BC</td>\n",
       "      <td>1B</td>\n",
       "      <td>1wk</td>\n",
       "      <td>Consecutive</td>\n",
       "      <td>2</td>\n",
       "      <td>19</td>\n",
       "      <td>-0.942101</td>\n",
       "      <td>0.826930</td>\n",
       "    </tr>\n",
       "    <tr>\n",
       "      <th>6</th>\n",
       "      <td>BD</td>\n",
       "      <td>1B</td>\n",
       "      <td>2wks</td>\n",
       "      <td>Misc</td>\n",
       "      <td>3</td>\n",
       "      <td>28</td>\n",
       "      <td>1.519518</td>\n",
       "      <td>0.064316</td>\n",
       "    </tr>\n",
       "    <tr>\n",
       "      <th>7</th>\n",
       "      <td>BE</td>\n",
       "      <td>1B</td>\n",
       "      <td>3wks</td>\n",
       "      <td>Misc</td>\n",
       "      <td>4</td>\n",
       "      <td>36</td>\n",
       "      <td>3.707624</td>\n",
       "      <td>0.000105</td>\n",
       "    </tr>\n",
       "    <tr>\n",
       "      <th>8</th>\n",
       "      <td>BF</td>\n",
       "      <td>1B</td>\n",
       "      <td>4wks</td>\n",
       "      <td>Misc</td>\n",
       "      <td>5</td>\n",
       "      <td>27</td>\n",
       "      <td>1.246005</td>\n",
       "      <td>0.106381</td>\n",
       "    </tr>\n",
       "    <tr>\n",
       "      <th>9</th>\n",
       "      <td>CD</td>\n",
       "      <td>2</td>\n",
       "      <td>1wk</td>\n",
       "      <td>Consecutive</td>\n",
       "      <td>3</td>\n",
       "      <td>27</td>\n",
       "      <td>1.246005</td>\n",
       "      <td>0.106381</td>\n",
       "    </tr>\n",
       "    <tr>\n",
       "      <th>10</th>\n",
       "      <td>CE</td>\n",
       "      <td>2</td>\n",
       "      <td>2wks</td>\n",
       "      <td>Misc</td>\n",
       "      <td>4</td>\n",
       "      <td>27</td>\n",
       "      <td>1.246005</td>\n",
       "      <td>0.106381</td>\n",
       "    </tr>\n",
       "    <tr>\n",
       "      <th>11</th>\n",
       "      <td>CF</td>\n",
       "      <td>2</td>\n",
       "      <td>3wks</td>\n",
       "      <td>Misc</td>\n",
       "      <td>5</td>\n",
       "      <td>24</td>\n",
       "      <td>0.425465</td>\n",
       "      <td>0.335249</td>\n",
       "    </tr>\n",
       "    <tr>\n",
       "      <th>12</th>\n",
       "      <td>DE</td>\n",
       "      <td>3</td>\n",
       "      <td>1wk</td>\n",
       "      <td>Consecutive</td>\n",
       "      <td>4</td>\n",
       "      <td>32</td>\n",
       "      <td>2.613571</td>\n",
       "      <td>0.004480</td>\n",
       "    </tr>\n",
       "    <tr>\n",
       "      <th>13</th>\n",
       "      <td>DF</td>\n",
       "      <td>3</td>\n",
       "      <td>2wks</td>\n",
       "      <td>Misc</td>\n",
       "      <td>5</td>\n",
       "      <td>29</td>\n",
       "      <td>1.793031</td>\n",
       "      <td>0.036484</td>\n",
       "    </tr>\n",
       "    <tr>\n",
       "      <th>14</th>\n",
       "      <td>EF</td>\n",
       "      <td>4</td>\n",
       "      <td>1wk</td>\n",
       "      <td>Consecutive</td>\n",
       "      <td>5</td>\n",
       "      <td>33</td>\n",
       "      <td>2.887085</td>\n",
       "      <td>0.001944</td>\n",
       "    </tr>\n",
       "  </tbody>\n",
       "</table>\n",
       "</div>"
      ],
      "text/plain": [
       "   timepoint session elapTime        class  choices  distances         Z  \\\n",
       "0         AB      1A    20min        Fixed        1         19 -0.942101   \n",
       "1         AC      1A      1wk        Fixed        2         12 -2.856694   \n",
       "2         AD      1A     2wks        Fixed        3         29  1.793031   \n",
       "3         AE      1A     3wks        Fixed        4         27  1.246005   \n",
       "4         AF      1A     4wks        Fixed        5         26  0.972492   \n",
       "5         BC      1B      1wk  Consecutive        2         19 -0.942101   \n",
       "6         BD      1B     2wks         Misc        3         28  1.519518   \n",
       "7         BE      1B     3wks         Misc        4         36  3.707624   \n",
       "8         BF      1B     4wks         Misc        5         27  1.246005   \n",
       "9         CD       2      1wk  Consecutive        3         27  1.246005   \n",
       "10        CE       2     2wks         Misc        4         27  1.246005   \n",
       "11        CF       2     3wks         Misc        5         24  0.425465   \n",
       "12        DE       3      1wk  Consecutive        4         32  2.613571   \n",
       "13        DF       3     2wks         Misc        5         29  1.793031   \n",
       "14        EF       4      1wk  Consecutive        5         33  2.887085   \n",
       "\n",
       "        pval  \n",
       "0   0.826930  \n",
       "1   0.997860  \n",
       "2   0.036484  \n",
       "3   0.106381  \n",
       "4   0.165403  \n",
       "5   0.826930  \n",
       "6   0.064316  \n",
       "7   0.000105  \n",
       "8   0.106381  \n",
       "9   0.106381  \n",
       "10  0.106381  \n",
       "11  0.335249  \n",
       "12  0.004480  \n",
       "13  0.036484  \n",
       "14  0.001944  "
      ]
     },
     "execution_count": 7,
     "metadata": {},
     "output_type": "execute_result"
    }
   ],
   "source": [
    " prefDICT['sub38'].Shirts_prefDF"
   ]
  },
  {
   "cell_type": "markdown",
   "metadata": {},
   "source": [
    "### prefDF"
   ]
  },
  {
   "cell_type": "code",
   "execution_count": 10,
   "metadata": {
    "ExecuteTime": {
     "end_time": "2021-06-30T23:05:02.058372Z",
     "start_time": "2021-06-30T23:05:01.787098Z"
    }
   },
   "outputs": [
    {
     "name": "stderr",
     "output_type": "stream",
     "text": [
      "100%|█████████████████████████████████████████████████████████████████████████████████| 85/85 [00:00<00:00, 359.61it/s]\n"
     ]
    }
   ],
   "source": [
    "#put all into one DF\n",
    "prefDF=pd.DataFrame()\n",
    "for i in tqdm(finalSubs):\n",
    "    prefDF=pd.concat([prefDF,prefDICT[i].Shirts_prefDF,prefDICT[i].Cars_prefDF,prefDICT[i].Phones_prefDF],axis=0)"
   ]
  },
  {
   "cell_type": "code",
   "execution_count": 12,
   "metadata": {
    "ExecuteTime": {
     "end_time": "2021-06-30T23:05:19.210880Z",
     "start_time": "2021-06-30T23:05:16.188204Z"
    }
   },
   "outputs": [],
   "source": [
    "changeDict=dict(zip(finalSubs,[allPairsTogether.groupby('subname').get_group(i).change.values[0] for i in finalSubs]))\n",
    "prefDF['subname']=np.repeat(finalSubs,45)\n",
    "prefDF['category']=np.tile(np.repeat(['Shirts','Cars','Phones'],15),85)\n",
    "prefDF['subSortAF']=[Subs[i].subSortAF for i in prefDF['subname']]\n",
    "prefDF['change']=[changeDict[i] for i in prefDF['subname']]\n",
    "prefDF.reset_index(drop=True,inplace=True)"
   ]
  },
  {
   "cell_type": "code",
   "execution_count": 10,
   "metadata": {
    "ExecuteTime": {
     "end_time": "2021-06-29T19:37:43.565448Z",
     "start_time": "2021-06-29T19:37:43.546500Z"
    }
   },
   "outputs": [],
   "source": [
    "# chanceSubs=[55,59,72,80,88,91,92,93,94,95]\n",
    "# for i in chanceSubs:\n",
    "#     prefDF=prefDF.loc[prefDF['subSortAF']!=i]"
   ]
  },
  {
   "cell_type": "code",
   "execution_count": 13,
   "metadata": {
    "ExecuteTime": {
     "end_time": "2021-06-30T23:05:25.009758Z",
     "start_time": "2021-06-30T23:05:25.000783Z"
    }
   },
   "outputs": [],
   "source": [
    "prefDF.reset_index(drop=True,inplace=True)"
   ]
  },
  {
   "cell_type": "code",
   "execution_count": 14,
   "metadata": {
    "ExecuteTime": {
     "end_time": "2021-06-30T23:05:27.224717Z",
     "start_time": "2021-06-30T23:05:27.166875Z"
    }
   },
   "outputs": [],
   "source": [
    "# prefDF.to_csv(r\"C:\\Users\\al33m\\Box Sync\\Grzywacz Lab\\Experiment\\ForR\\SCP\\CSV\\prefDF.csv\")"
   ]
  },
  {
   "cell_type": "code",
   "execution_count": 92,
   "metadata": {
    "ExecuteTime": {
     "end_time": "2021-06-25T19:19:42.953432Z",
     "start_time": "2021-06-25T19:19:42.927909Z"
    }
   },
   "outputs": [
    {
     "data": {
      "text/html": [
       "<div>\n",
       "<style scoped>\n",
       "    .dataframe tbody tr th:only-of-type {\n",
       "        vertical-align: middle;\n",
       "    }\n",
       "\n",
       "    .dataframe tbody tr th {\n",
       "        vertical-align: top;\n",
       "    }\n",
       "\n",
       "    .dataframe thead th {\n",
       "        text-align: right;\n",
       "    }\n",
       "</style>\n",
       "<table border=\"1\" class=\"dataframe\">\n",
       "  <thead>\n",
       "    <tr style=\"text-align: right;\">\n",
       "      <th></th>\n",
       "      <th>timepoint</th>\n",
       "      <th>session</th>\n",
       "      <th>elapTime</th>\n",
       "      <th>class</th>\n",
       "      <th>choices</th>\n",
       "      <th>distances</th>\n",
       "      <th>Z</th>\n",
       "      <th>pval</th>\n",
       "      <th>subname</th>\n",
       "      <th>category</th>\n",
       "      <th>subSortAF</th>\n",
       "      <th>change</th>\n",
       "    </tr>\n",
       "  </thead>\n",
       "  <tbody>\n",
       "    <tr>\n",
       "      <th>0</th>\n",
       "      <td>AB</td>\n",
       "      <td>1A</td>\n",
       "      <td>20min</td>\n",
       "      <td>Fixed</td>\n",
       "      <td>1</td>\n",
       "      <td>13</td>\n",
       "      <td>-0.118331</td>\n",
       "      <td>0.547097</td>\n",
       "      <td>sub1</td>\n",
       "      <td>Shirts</td>\n",
       "      <td>9</td>\n",
       "      <td>No</td>\n",
       "    </tr>\n",
       "    <tr>\n",
       "      <th>1</th>\n",
       "      <td>AC</td>\n",
       "      <td>1A</td>\n",
       "      <td>1wk</td>\n",
       "      <td>Fixed</td>\n",
       "      <td>2</td>\n",
       "      <td>13</td>\n",
       "      <td>-0.118331</td>\n",
       "      <td>0.547097</td>\n",
       "      <td>sub1</td>\n",
       "      <td>Shirts</td>\n",
       "      <td>9</td>\n",
       "      <td>No</td>\n",
       "    </tr>\n",
       "    <tr>\n",
       "      <th>2</th>\n",
       "      <td>AD</td>\n",
       "      <td>1A</td>\n",
       "      <td>2wks</td>\n",
       "      <td>Fixed</td>\n",
       "      <td>3</td>\n",
       "      <td>15</td>\n",
       "      <td>0.591657</td>\n",
       "      <td>0.277040</td>\n",
       "      <td>sub1</td>\n",
       "      <td>Shirts</td>\n",
       "      <td>9</td>\n",
       "      <td>No</td>\n",
       "    </tr>\n",
       "    <tr>\n",
       "      <th>3</th>\n",
       "      <td>AE</td>\n",
       "      <td>1A</td>\n",
       "      <td>3wks</td>\n",
       "      <td>Fixed</td>\n",
       "      <td>4</td>\n",
       "      <td>18</td>\n",
       "      <td>1.656640</td>\n",
       "      <td>0.048796</td>\n",
       "      <td>sub1</td>\n",
       "      <td>Shirts</td>\n",
       "      <td>9</td>\n",
       "      <td>No</td>\n",
       "    </tr>\n",
       "    <tr>\n",
       "      <th>4</th>\n",
       "      <td>AF</td>\n",
       "      <td>1A</td>\n",
       "      <td>4wks</td>\n",
       "      <td>Fixed</td>\n",
       "      <td>5</td>\n",
       "      <td>20</td>\n",
       "      <td>2.366629</td>\n",
       "      <td>0.008975</td>\n",
       "      <td>sub1</td>\n",
       "      <td>Shirts</td>\n",
       "      <td>9</td>\n",
       "      <td>No</td>\n",
       "    </tr>\n",
       "  </tbody>\n",
       "</table>\n",
       "</div>"
      ],
      "text/plain": [
       "  timepoint session elapTime  class  choices  distances         Z      pval  \\\n",
       "0        AB      1A    20min  Fixed        1         13 -0.118331  0.547097   \n",
       "1        AC      1A      1wk  Fixed        2         13 -0.118331  0.547097   \n",
       "2        AD      1A     2wks  Fixed        3         15  0.591657  0.277040   \n",
       "3        AE      1A     3wks  Fixed        4         18  1.656640  0.048796   \n",
       "4        AF      1A     4wks  Fixed        5         20  2.366629  0.008975   \n",
       "\n",
       "  subname category  subSortAF change  \n",
       "0    sub1   Shirts          9     No  \n",
       "1    sub1   Shirts          9     No  \n",
       "2    sub1   Shirts          9     No  \n",
       "3    sub1   Shirts          9     No  \n",
       "4    sub1   Shirts          9     No  "
      ]
     },
     "execution_count": 92,
     "metadata": {},
     "output_type": "execute_result"
    }
   ],
   "source": [
    "prefDF.head()"
   ]
  },
  {
   "cell_type": "markdown",
   "metadata": {},
   "source": [
    "### get significant ones"
   ]
  },
  {
   "cell_type": "code",
   "execution_count": 90,
   "metadata": {
    "ExecuteTime": {
     "end_time": "2021-06-25T19:17:13.714039Z",
     "start_time": "2021-06-25T19:17:13.705797Z"
    }
   },
   "outputs": [
    {
     "data": {
      "text/plain": [
       "85"
      ]
     },
     "execution_count": 90,
     "metadata": {},
     "output_type": "execute_result"
    }
   ],
   "source": [
    "len(np.unique(prefDF['subSortAF']))"
   ]
  },
  {
   "cell_type": "code",
   "execution_count": 10,
   "metadata": {
    "ExecuteTime": {
     "end_time": "2021-06-24T19:32:01.952229Z",
     "start_time": "2021-06-24T19:32:01.931286Z"
    }
   },
   "outputs": [
    {
     "data": {
      "text/plain": [
       "1.3071895424836602e-05"
      ]
     },
     "execution_count": 10,
     "metadata": {},
     "output_type": "execute_result"
    }
   ],
   "source": [
    ".05/3825"
   ]
  },
  {
   "cell_type": "code",
   "execution_count": 15,
   "metadata": {
    "ExecuteTime": {
     "end_time": "2021-06-30T23:05:41.686173Z",
     "start_time": "2021-06-30T23:05:41.658268Z"
    }
   },
   "outputs": [],
   "source": [
    "# prefDF_sig=prefDF.loc[np.where(prefDF.pval<0.05/3825)]\n",
    "\n",
    "prefDF_sig=prefDF.loc[np.where(prefDF.pval<0.05/45)]\n",
    "# prefDF_sig=prefDF.loc[np.where(prefDF.pval<0.01/45)]\n",
    "prefDF_sig.sort_values(by=['subSortAF','timepoint'],inplace=True)\n",
    "prefDF_sig.reset_index(drop=True,inplace=True)"
   ]
  },
  {
   "cell_type": "code",
   "execution_count": 85,
   "metadata": {
    "ExecuteTime": {
     "end_time": "2021-06-23T21:56:11.401882Z",
     "start_time": "2021-06-23T21:56:11.365982Z"
    }
   },
   "outputs": [
    {
     "data": {
      "text/html": [
       "<div>\n",
       "<style scoped>\n",
       "    .dataframe tbody tr th:only-of-type {\n",
       "        vertical-align: middle;\n",
       "    }\n",
       "\n",
       "    .dataframe tbody tr th {\n",
       "        vertical-align: top;\n",
       "    }\n",
       "\n",
       "    .dataframe thead th {\n",
       "        text-align: right;\n",
       "    }\n",
       "</style>\n",
       "<table border=\"1\" class=\"dataframe\">\n",
       "  <thead>\n",
       "    <tr style=\"text-align: right;\">\n",
       "      <th></th>\n",
       "      <th>timepoint</th>\n",
       "      <th>session</th>\n",
       "      <th>elapTime</th>\n",
       "      <th>class</th>\n",
       "      <th>choices</th>\n",
       "      <th>distances</th>\n",
       "      <th>Z</th>\n",
       "      <th>pval</th>\n",
       "      <th>subname</th>\n",
       "      <th>category</th>\n",
       "      <th>subSortAF</th>\n",
       "      <th>change</th>\n",
       "    </tr>\n",
       "  </thead>\n",
       "  <tbody>\n",
       "    <tr>\n",
       "      <th>0</th>\n",
       "      <td>AB</td>\n",
       "      <td>1A</td>\n",
       "      <td>20min</td>\n",
       "      <td>Fixed</td>\n",
       "      <td>1</td>\n",
       "      <td>11</td>\n",
       "      <td>3.397532</td>\n",
       "      <td>0.000340</td>\n",
       "      <td>sub71</td>\n",
       "      <td>Phones</td>\n",
       "      <td>2</td>\n",
       "      <td>Yes</td>\n",
       "    </tr>\n",
       "    <tr>\n",
       "      <th>1</th>\n",
       "      <td>AC</td>\n",
       "      <td>1A</td>\n",
       "      <td>1wk</td>\n",
       "      <td>Fixed</td>\n",
       "      <td>2</td>\n",
       "      <td>11</td>\n",
       "      <td>3.687728</td>\n",
       "      <td>0.000113</td>\n",
       "      <td>sub71</td>\n",
       "      <td>Cars</td>\n",
       "      <td>2</td>\n",
       "      <td>Yes</td>\n",
       "    </tr>\n",
       "    <tr>\n",
       "      <th>2</th>\n",
       "      <td>AD</td>\n",
       "      <td>1A</td>\n",
       "      <td>2wks</td>\n",
       "      <td>Fixed</td>\n",
       "      <td>3</td>\n",
       "      <td>11</td>\n",
       "      <td>3.397532</td>\n",
       "      <td>0.000340</td>\n",
       "      <td>sub71</td>\n",
       "      <td>Phones</td>\n",
       "      <td>2</td>\n",
       "      <td>Yes</td>\n",
       "    </tr>\n",
       "    <tr>\n",
       "      <th>3</th>\n",
       "      <td>AE</td>\n",
       "      <td>1A</td>\n",
       "      <td>3wks</td>\n",
       "      <td>Fixed</td>\n",
       "      <td>4</td>\n",
       "      <td>9</td>\n",
       "      <td>3.495310</td>\n",
       "      <td>0.000237</td>\n",
       "      <td>sub71</td>\n",
       "      <td>Shirts</td>\n",
       "      <td>2</td>\n",
       "      <td>Yes</td>\n",
       "    </tr>\n",
       "    <tr>\n",
       "      <th>4</th>\n",
       "      <td>AE</td>\n",
       "      <td>1A</td>\n",
       "      <td>3wks</td>\n",
       "      <td>Fixed</td>\n",
       "      <td>4</td>\n",
       "      <td>11</td>\n",
       "      <td>3.397532</td>\n",
       "      <td>0.000340</td>\n",
       "      <td>sub71</td>\n",
       "      <td>Phones</td>\n",
       "      <td>2</td>\n",
       "      <td>Yes</td>\n",
       "    </tr>\n",
       "  </tbody>\n",
       "</table>\n",
       "</div>"
      ],
      "text/plain": [
       "  timepoint session elapTime  class  choices  distances         Z      pval  \\\n",
       "0        AB      1A    20min  Fixed        1         11  3.397532  0.000340   \n",
       "1        AC      1A      1wk  Fixed        2         11  3.687728  0.000113   \n",
       "2        AD      1A     2wks  Fixed        3         11  3.397532  0.000340   \n",
       "3        AE      1A     3wks  Fixed        4          9  3.495310  0.000237   \n",
       "4        AE      1A     3wks  Fixed        4         11  3.397532  0.000340   \n",
       "\n",
       "  subname category  subSortAF change  \n",
       "0   sub71   Phones          2    Yes  \n",
       "1   sub71     Cars          2    Yes  \n",
       "2   sub71   Phones          2    Yes  \n",
       "3   sub71   Shirts          2    Yes  \n",
       "4   sub71   Phones          2    Yes  "
      ]
     },
     "execution_count": 85,
     "metadata": {},
     "output_type": "execute_result"
    }
   ],
   "source": [
    "prefDF_sig.head()"
   ]
  },
  {
   "cell_type": "code",
   "execution_count": 67,
   "metadata": {
    "ExecuteTime": {
     "end_time": "2021-06-24T20:56:30.667506Z",
     "start_time": "2021-06-24T20:56:30.658529Z"
    }
   },
   "outputs": [
    {
     "data": {
      "text/plain": [
       "24"
      ]
     },
     "execution_count": 67,
     "metadata": {},
     "output_type": "execute_result"
    }
   ],
   "source": [
    "# how many had significant changes\n",
    "len(np.unique(prefDF_sig.loc[prefDF_sig['class']=='Fixed']['subSortAF']))"
   ]
  },
  {
   "cell_type": "code",
   "execution_count": 21,
   "metadata": {
    "ExecuteTime": {
     "end_time": "2021-06-24T19:35:53.076225Z",
     "start_time": "2021-06-24T19:35:53.051894Z"
    }
   },
   "outputs": [
    {
     "data": {
      "text/plain": [
       "13"
      ]
     },
     "execution_count": 21,
     "metadata": {},
     "output_type": "execute_result"
    }
   ],
   "source": [
    "len(np.unique(prefDF_sig.loc[prefDF_sig['class']=='Consecutive']['subSortAF']))"
   ]
  },
  {
   "cell_type": "code",
   "execution_count": 22,
   "metadata": {
    "ExecuteTime": {
     "end_time": "2021-06-24T19:35:55.701673Z",
     "start_time": "2021-06-24T19:35:55.682719Z"
    }
   },
   "outputs": [
    {
     "data": {
      "text/plain": [
       "19"
      ]
     },
     "execution_count": 22,
     "metadata": {},
     "output_type": "execute_result"
    }
   ],
   "source": [
    "len(np.unique(prefDF_sig.loc[prefDF_sig['class']=='Misc']['subSortAF']))"
   ]
  },
  {
   "cell_type": "code",
   "execution_count": 68,
   "metadata": {
    "ExecuteTime": {
     "end_time": "2021-06-24T20:56:35.579492Z",
     "start_time": "2021-06-24T20:56:35.569520Z"
    }
   },
   "outputs": [
    {
     "data": {
      "text/plain": [
       "38"
      ]
     },
     "execution_count": 68,
     "metadata": {},
     "output_type": "execute_result"
    }
   ],
   "source": [
    "len(np.unique(prefDF_sig['subSortAF']))"
   ]
  },
  {
   "cell_type": "code",
   "execution_count": 90,
   "metadata": {
    "ExecuteTime": {
     "end_time": "2021-06-23T21:56:37.201905Z",
     "start_time": "2021-06-23T21:56:37.179969Z"
    }
   },
   "outputs": [
    {
     "data": {
      "text/plain": [
       "array([ 2,  3,  4,  5,  7,  9, 11, 12, 13, 15, 16, 17, 18, 19, 20, 21, 23,\n",
       "       24, 25, 26, 27, 28, 29, 30, 33, 34, 35, 36, 37, 38, 39, 40, 41, 43,\n",
       "       45, 46, 47, 48, 49, 50, 51, 52, 53, 54, 55, 56, 57, 58, 59, 60, 61,\n",
       "       63, 64, 65, 66, 67, 69, 70, 71, 72, 73, 74, 76, 77, 78, 79, 80, 81,\n",
       "       82, 83, 84, 85, 86, 87, 88, 89, 90, 91, 92, 93, 94, 95],\n",
       "      dtype=int64)"
      ]
     },
     "execution_count": 90,
     "metadata": {},
     "output_type": "execute_result"
    }
   ],
   "source": [
    "np.unique(prefDF_sig['subSortAF'])"
   ]
  },
  {
   "cell_type": "code",
   "execution_count": 29,
   "metadata": {
    "ExecuteTime": {
     "end_time": "2021-06-24T19:42:16.849067Z",
     "start_time": "2021-06-24T19:42:16.805156Z"
    }
   },
   "outputs": [
    {
     "data": {
      "text/html": [
       "<div>\n",
       "<style scoped>\n",
       "    .dataframe tbody tr th:only-of-type {\n",
       "        vertical-align: middle;\n",
       "    }\n",
       "\n",
       "    .dataframe tbody tr th {\n",
       "        vertical-align: top;\n",
       "    }\n",
       "\n",
       "    .dataframe thead th {\n",
       "        text-align: right;\n",
       "    }\n",
       "</style>\n",
       "<table border=\"1\" class=\"dataframe\">\n",
       "  <thead>\n",
       "    <tr style=\"text-align: right;\">\n",
       "      <th></th>\n",
       "      <th>timepoint</th>\n",
       "      <th>session</th>\n",
       "      <th>elapTime</th>\n",
       "      <th>class</th>\n",
       "      <th>choices</th>\n",
       "      <th>distances</th>\n",
       "      <th>Z</th>\n",
       "      <th>pval</th>\n",
       "      <th>subname</th>\n",
       "      <th>category</th>\n",
       "      <th>subSortAF</th>\n",
       "      <th>change</th>\n",
       "    </tr>\n",
       "  </thead>\n",
       "  <tbody>\n",
       "    <tr>\n",
       "      <th>3300</th>\n",
       "      <td>AB</td>\n",
       "      <td>1A</td>\n",
       "      <td>20min</td>\n",
       "      <td>Fixed</td>\n",
       "      <td>1</td>\n",
       "      <td>33</td>\n",
       "      <td>3.624434</td>\n",
       "      <td>1.447974e-04</td>\n",
       "      <td>sub74</td>\n",
       "      <td>Cars</td>\n",
       "      <td>56</td>\n",
       "      <td>No</td>\n",
       "    </tr>\n",
       "    <tr>\n",
       "      <th>3301</th>\n",
       "      <td>AC</td>\n",
       "      <td>1A</td>\n",
       "      <td>1wk</td>\n",
       "      <td>Fixed</td>\n",
       "      <td>2</td>\n",
       "      <td>28</td>\n",
       "      <td>2.199984</td>\n",
       "      <td>1.390401e-02</td>\n",
       "      <td>sub74</td>\n",
       "      <td>Cars</td>\n",
       "      <td>56</td>\n",
       "      <td>No</td>\n",
       "    </tr>\n",
       "    <tr>\n",
       "      <th>3302</th>\n",
       "      <td>AD</td>\n",
       "      <td>1A</td>\n",
       "      <td>2wks</td>\n",
       "      <td>Fixed</td>\n",
       "      <td>3</td>\n",
       "      <td>30</td>\n",
       "      <td>2.769764</td>\n",
       "      <td>2.804845e-03</td>\n",
       "      <td>sub74</td>\n",
       "      <td>Cars</td>\n",
       "      <td>56</td>\n",
       "      <td>No</td>\n",
       "    </tr>\n",
       "    <tr>\n",
       "      <th>3303</th>\n",
       "      <td>AE</td>\n",
       "      <td>1A</td>\n",
       "      <td>3wks</td>\n",
       "      <td>Fixed</td>\n",
       "      <td>4</td>\n",
       "      <td>38</td>\n",
       "      <td>5.048884</td>\n",
       "      <td>2.221989e-07</td>\n",
       "      <td>sub74</td>\n",
       "      <td>Cars</td>\n",
       "      <td>56</td>\n",
       "      <td>No</td>\n",
       "    </tr>\n",
       "    <tr>\n",
       "      <th>3304</th>\n",
       "      <td>AF</td>\n",
       "      <td>1A</td>\n",
       "      <td>4wks</td>\n",
       "      <td>Fixed</td>\n",
       "      <td>5</td>\n",
       "      <td>33</td>\n",
       "      <td>3.624434</td>\n",
       "      <td>1.447974e-04</td>\n",
       "      <td>sub74</td>\n",
       "      <td>Cars</td>\n",
       "      <td>56</td>\n",
       "      <td>No</td>\n",
       "    </tr>\n",
       "  </tbody>\n",
       "</table>\n",
       "</div>"
      ],
      "text/plain": [
       "     timepoint session elapTime  class  choices  distances         Z  \\\n",
       "3300        AB      1A    20min  Fixed        1         33  3.624434   \n",
       "3301        AC      1A      1wk  Fixed        2         28  2.199984   \n",
       "3302        AD      1A     2wks  Fixed        3         30  2.769764   \n",
       "3303        AE      1A     3wks  Fixed        4         38  5.048884   \n",
       "3304        AF      1A     4wks  Fixed        5         33  3.624434   \n",
       "\n",
       "              pval subname category  subSortAF change  \n",
       "3300  1.447974e-04   sub74     Cars         56     No  \n",
       "3301  1.390401e-02   sub74     Cars         56     No  \n",
       "3302  2.804845e-03   sub74     Cars         56     No  \n",
       "3303  2.221989e-07   sub74     Cars         56     No  \n",
       "3304  1.447974e-04   sub74     Cars         56     No  "
      ]
     },
     "execution_count": 29,
     "metadata": {},
     "output_type": "execute_result"
    }
   ],
   "source": [
    "prefDF.loc[np.where(prefDF['subSortAF']==56)].loc[3300:3304]"
   ]
  },
  {
   "cell_type": "code",
   "execution_count": 30,
   "metadata": {
    "ExecuteTime": {
     "end_time": "2021-06-24T19:42:47.945361Z",
     "start_time": "2021-06-24T19:42:47.910453Z"
    }
   },
   "outputs": [
    {
     "data": {
      "text/html": [
       "<div>\n",
       "<style scoped>\n",
       "    .dataframe tbody tr th:only-of-type {\n",
       "        vertical-align: middle;\n",
       "    }\n",
       "\n",
       "    .dataframe tbody tr th {\n",
       "        vertical-align: top;\n",
       "    }\n",
       "\n",
       "    .dataframe thead th {\n",
       "        text-align: right;\n",
       "    }\n",
       "</style>\n",
       "<table border=\"1\" class=\"dataframe\">\n",
       "  <thead>\n",
       "    <tr style=\"text-align: right;\">\n",
       "      <th></th>\n",
       "      <th>timepoint</th>\n",
       "      <th>session</th>\n",
       "      <th>elapTime</th>\n",
       "      <th>class</th>\n",
       "      <th>choices</th>\n",
       "      <th>distances</th>\n",
       "      <th>Z</th>\n",
       "      <th>pval</th>\n",
       "      <th>subname</th>\n",
       "      <th>category</th>\n",
       "      <th>subSortAF</th>\n",
       "      <th>change</th>\n",
       "    </tr>\n",
       "  </thead>\n",
       "  <tbody>\n",
       "    <tr>\n",
       "      <th>30</th>\n",
       "      <td>AE</td>\n",
       "      <td>1A</td>\n",
       "      <td>3wks</td>\n",
       "      <td>Fixed</td>\n",
       "      <td>4</td>\n",
       "      <td>38</td>\n",
       "      <td>5.048884</td>\n",
       "      <td>2.221989e-07</td>\n",
       "      <td>sub74</td>\n",
       "      <td>Cars</td>\n",
       "      <td>56</td>\n",
       "      <td>No</td>\n",
       "    </tr>\n",
       "  </tbody>\n",
       "</table>\n",
       "</div>"
      ],
      "text/plain": [
       "   timepoint session elapTime  class  choices  distances         Z  \\\n",
       "30        AE      1A     3wks  Fixed        4         38  5.048884   \n",
       "\n",
       "            pval subname category  subSortAF change  \n",
       "30  2.221989e-07   sub74     Cars         56     No  "
      ]
     },
     "execution_count": 30,
     "metadata": {},
     "output_type": "execute_result"
    }
   ],
   "source": [
    "prefDF_sig.loc[np.where(prefDF_sig['subSortAF']==56)]"
   ]
  },
  {
   "cell_type": "code",
   "execution_count": 26,
   "metadata": {
    "ExecuteTime": {
     "end_time": "2021-06-24T19:40:25.509262Z",
     "start_time": "2021-06-24T19:40:25.461375Z"
    },
    "scrolled": true
   },
   "outputs": [
    {
     "data": {
      "text/html": [
       "<div>\n",
       "<style scoped>\n",
       "    .dataframe tbody tr th:only-of-type {\n",
       "        vertical-align: middle;\n",
       "    }\n",
       "\n",
       "    .dataframe tbody tr th {\n",
       "        vertical-align: top;\n",
       "    }\n",
       "\n",
       "    .dataframe thead th {\n",
       "        text-align: right;\n",
       "    }\n",
       "</style>\n",
       "<table border=\"1\" class=\"dataframe\">\n",
       "  <thead>\n",
       "    <tr style=\"text-align: right;\">\n",
       "      <th></th>\n",
       "      <th>timepoint</th>\n",
       "      <th>session</th>\n",
       "      <th>elapTime</th>\n",
       "      <th>class</th>\n",
       "      <th>choices</th>\n",
       "      <th>distances</th>\n",
       "      <th>Z</th>\n",
       "      <th>pval</th>\n",
       "      <th>subname</th>\n",
       "      <th>category</th>\n",
       "      <th>subSortAF</th>\n",
       "      <th>change</th>\n",
       "    </tr>\n",
       "  </thead>\n",
       "  <tbody>\n",
       "    <tr>\n",
       "      <th>1500</th>\n",
       "      <td>AB</td>\n",
       "      <td>1A</td>\n",
       "      <td>20min</td>\n",
       "      <td>Fixed</td>\n",
       "      <td>1</td>\n",
       "      <td>30</td>\n",
       "      <td>-0.838945</td>\n",
       "      <td>0.799250</td>\n",
       "      <td>sub34</td>\n",
       "      <td>Cars</td>\n",
       "      <td>90</td>\n",
       "      <td>Yes</td>\n",
       "    </tr>\n",
       "    <tr>\n",
       "      <th>1501</th>\n",
       "      <td>AC</td>\n",
       "      <td>1A</td>\n",
       "      <td>1wk</td>\n",
       "      <td>Fixed</td>\n",
       "      <td>2</td>\n",
       "      <td>44</td>\n",
       "      <td>2.364301</td>\n",
       "      <td>0.009032</td>\n",
       "      <td>sub34</td>\n",
       "      <td>Cars</td>\n",
       "      <td>90</td>\n",
       "      <td>Yes</td>\n",
       "    </tr>\n",
       "    <tr>\n",
       "      <th>1502</th>\n",
       "      <td>AD</td>\n",
       "      <td>1A</td>\n",
       "      <td>2wks</td>\n",
       "      <td>Fixed</td>\n",
       "      <td>3</td>\n",
       "      <td>54</td>\n",
       "      <td>4.652334</td>\n",
       "      <td>0.000002</td>\n",
       "      <td>sub34</td>\n",
       "      <td>Cars</td>\n",
       "      <td>90</td>\n",
       "      <td>Yes</td>\n",
       "    </tr>\n",
       "    <tr>\n",
       "      <th>1503</th>\n",
       "      <td>AE</td>\n",
       "      <td>1A</td>\n",
       "      <td>3wks</td>\n",
       "      <td>Fixed</td>\n",
       "      <td>4</td>\n",
       "      <td>44</td>\n",
       "      <td>2.364301</td>\n",
       "      <td>0.009032</td>\n",
       "      <td>sub34</td>\n",
       "      <td>Cars</td>\n",
       "      <td>90</td>\n",
       "      <td>Yes</td>\n",
       "    </tr>\n",
       "    <tr>\n",
       "      <th>1504</th>\n",
       "      <td>AF</td>\n",
       "      <td>1A</td>\n",
       "      <td>4wks</td>\n",
       "      <td>Fixed</td>\n",
       "      <td>5</td>\n",
       "      <td>51</td>\n",
       "      <td>3.965924</td>\n",
       "      <td>0.000037</td>\n",
       "      <td>sub34</td>\n",
       "      <td>Cars</td>\n",
       "      <td>90</td>\n",
       "      <td>Yes</td>\n",
       "    </tr>\n",
       "  </tbody>\n",
       "</table>\n",
       "</div>"
      ],
      "text/plain": [
       "     timepoint session elapTime  class  choices  distances         Z  \\\n",
       "1500        AB      1A    20min  Fixed        1         30 -0.838945   \n",
       "1501        AC      1A      1wk  Fixed        2         44  2.364301   \n",
       "1502        AD      1A     2wks  Fixed        3         54  4.652334   \n",
       "1503        AE      1A     3wks  Fixed        4         44  2.364301   \n",
       "1504        AF      1A     4wks  Fixed        5         51  3.965924   \n",
       "\n",
       "          pval subname category  subSortAF change  \n",
       "1500  0.799250   sub34     Cars         90    Yes  \n",
       "1501  0.009032   sub34     Cars         90    Yes  \n",
       "1502  0.000002   sub34     Cars         90    Yes  \n",
       "1503  0.009032   sub34     Cars         90    Yes  \n",
       "1504  0.000037   sub34     Cars         90    Yes  "
      ]
     },
     "execution_count": 26,
     "metadata": {},
     "output_type": "execute_result"
    }
   ],
   "source": [
    "prefDF.loc[np.where(prefDF['subSortAF']==90)].loc[1500:1504]"
   ]
  },
  {
   "cell_type": "markdown",
   "metadata": {},
   "source": [
    "### significant in reference to each timepoint"
   ]
  },
  {
   "cell_type": "code",
   "execution_count": 16,
   "metadata": {
    "ExecuteTime": {
     "end_time": "2021-06-30T23:05:55.840488Z",
     "start_time": "2021-06-30T23:05:55.810568Z"
    }
   },
   "outputs": [],
   "source": [
    "timeSig=pd.concat([allPairsDistance.groupby('Timepoint').agg({'Instability':'mean'}),\n",
    "                   prefDF_sig.groupby('timepoint').agg({'timepoint':'count'})],axis=1)"
   ]
  },
  {
   "cell_type": "code",
   "execution_count": 18,
   "metadata": {
    "ExecuteTime": {
     "end_time": "2021-06-30T23:06:51.141448Z",
     "start_time": "2021-06-30T23:06:51.120506Z"
    }
   },
   "outputs": [
    {
     "data": {
      "text/html": [
       "<div>\n",
       "<style scoped>\n",
       "    .dataframe tbody tr th:only-of-type {\n",
       "        vertical-align: middle;\n",
       "    }\n",
       "\n",
       "    .dataframe tbody tr th {\n",
       "        vertical-align: top;\n",
       "    }\n",
       "\n",
       "    .dataframe thead th {\n",
       "        text-align: right;\n",
       "    }\n",
       "</style>\n",
       "<table border=\"1\" class=\"dataframe\">\n",
       "  <thead>\n",
       "    <tr style=\"text-align: right;\">\n",
       "      <th></th>\n",
       "      <th>Instability</th>\n",
       "      <th>timepoint</th>\n",
       "    </tr>\n",
       "  </thead>\n",
       "  <tbody>\n",
       "    <tr>\n",
       "      <th>AB</th>\n",
       "      <td>0.186268</td>\n",
       "      <td>11</td>\n",
       "    </tr>\n",
       "    <tr>\n",
       "      <th>AC</th>\n",
       "      <td>0.205537</td>\n",
       "      <td>17</td>\n",
       "    </tr>\n",
       "    <tr>\n",
       "      <th>AD</th>\n",
       "      <td>0.221447</td>\n",
       "      <td>42</td>\n",
       "    </tr>\n",
       "    <tr>\n",
       "      <th>AE</th>\n",
       "      <td>0.220487</td>\n",
       "      <td>37</td>\n",
       "    </tr>\n",
       "    <tr>\n",
       "      <th>AF</th>\n",
       "      <td>0.224622</td>\n",
       "      <td>38</td>\n",
       "    </tr>\n",
       "    <tr>\n",
       "      <th>BC</th>\n",
       "      <td>0.191067</td>\n",
       "      <td>7</td>\n",
       "    </tr>\n",
       "    <tr>\n",
       "      <th>BD</th>\n",
       "      <td>0.203581</td>\n",
       "      <td>16</td>\n",
       "    </tr>\n",
       "    <tr>\n",
       "      <th>BE</th>\n",
       "      <td>0.208749</td>\n",
       "      <td>19</td>\n",
       "    </tr>\n",
       "    <tr>\n",
       "      <th>BF</th>\n",
       "      <td>0.206903</td>\n",
       "      <td>15</td>\n",
       "    </tr>\n",
       "    <tr>\n",
       "      <th>CD</th>\n",
       "      <td>0.188594</td>\n",
       "      <td>10</td>\n",
       "    </tr>\n",
       "    <tr>\n",
       "      <th>CE</th>\n",
       "      <td>0.196788</td>\n",
       "      <td>13</td>\n",
       "    </tr>\n",
       "    <tr>\n",
       "      <th>CF</th>\n",
       "      <td>0.205426</td>\n",
       "      <td>20</td>\n",
       "    </tr>\n",
       "    <tr>\n",
       "      <th>DE</th>\n",
       "      <td>0.188409</td>\n",
       "      <td>8</td>\n",
       "    </tr>\n",
       "    <tr>\n",
       "      <th>DF</th>\n",
       "      <td>0.194094</td>\n",
       "      <td>14</td>\n",
       "    </tr>\n",
       "    <tr>\n",
       "      <th>EF</th>\n",
       "      <td>0.193429</td>\n",
       "      <td>16</td>\n",
       "    </tr>\n",
       "  </tbody>\n",
       "</table>\n",
       "</div>"
      ],
      "text/plain": [
       "    Instability  timepoint\n",
       "AB     0.186268         11\n",
       "AC     0.205537         17\n",
       "AD     0.221447         42\n",
       "AE     0.220487         37\n",
       "AF     0.224622         38\n",
       "BC     0.191067          7\n",
       "BD     0.203581         16\n",
       "BE     0.208749         19\n",
       "BF     0.206903         15\n",
       "CD     0.188594         10\n",
       "CE     0.196788         13\n",
       "CF     0.205426         20\n",
       "DE     0.188409          8\n",
       "DF     0.194094         14\n",
       "EF     0.193429         16"
      ]
     },
     "execution_count": 18,
     "metadata": {},
     "output_type": "execute_result"
    }
   ],
   "source": [
    "timeSig"
   ]
  },
  {
   "cell_type": "code",
   "execution_count": 19,
   "metadata": {
    "ExecuteTime": {
     "end_time": "2021-06-30T23:06:55.121413Z",
     "start_time": "2021-06-30T23:06:55.105458Z"
    }
   },
   "outputs": [
    {
     "data": {
      "text/plain": [
       "(0.923234860939927, 9.251095656554218e-07)"
      ]
     },
     "execution_count": 19,
     "metadata": {},
     "output_type": "execute_result"
    }
   ],
   "source": [
    "stats.pearsonr(timeSig['Instability'],timeSig['timepoint'])"
   ]
  },
  {
   "cell_type": "code",
   "execution_count": 73,
   "metadata": {
    "ExecuteTime": {
     "end_time": "2021-06-24T21:08:59.898804Z",
     "start_time": "2021-06-24T21:08:59.345282Z"
    }
   },
   "outputs": [
    {
     "data": {
      "text/plain": [
       "Text(0.5, 1.0, 'subject siginificant ounts overall')"
      ]
     },
     "execution_count": 73,
     "metadata": {},
     "output_type": "execute_result"
    },
    {
     "data": {
      "image/png": "[encoded data removed]",
      "text/plain": [
       "<Figure size 1152x432 with 1 Axes>"
      ]
     },
     "metadata": {
      "needs_background": "light"
     },
     "output_type": "display_data"
    }
   ],
   "source": [
    "fig=plt.figure(figsize=(16, 6))\n",
    "prefDF_sig['subSortAF'].value_counts().plot(kind='bar')\n",
    "plt.title('subject siginificant ounts overall')"
   ]
  },
  {
   "cell_type": "code",
   "execution_count": 20,
   "metadata": {
    "ExecuteTime": {
     "end_time": "2021-07-01T07:11:11.045080Z",
     "start_time": "2021-07-01T07:11:10.181090Z"
    }
   },
   "outputs": [
    {
     "data": {
      "text/plain": [
       "Text(0.5, 1.0, 'counts by session')"
      ]
     },
     "execution_count": 20,
     "metadata": {},
     "output_type": "execute_result"
    },
    {
     "data": {
      "image/png": "[encoded data removed]",
      "text/plain": [
       "<Figure size 1152x432 with 1 Axes>"
      ]
     },
     "metadata": {
      "needs_background": "light"
     },
     "output_type": "display_data"
    }
   ],
   "source": [
    "fig=plt.figure(figsize=(16, 6))\n",
    "\n",
    "sns.countplot('timepoint',hue='session',data=prefDF_sig,order=['AB','AC','AD','AE','AF','BC','BD','BE','BF','CD','CE','CF','DE','DF','EF'],hue_order=['1A','1B','2','3','4'])\n",
    "plt.title('counts by session')"
   ]
  },
  {
   "cell_type": "code",
   "execution_count": 78,
   "metadata": {
    "ExecuteTime": {
     "end_time": "2021-06-24T21:10:29.590820Z",
     "start_time": "2021-06-24T21:10:28.835840Z"
    }
   },
   "outputs": [
    {
     "data": {
      "text/plain": [
       "Text(0.5, 1.0, 'counts by session')"
      ]
     },
     "execution_count": 78,
     "metadata": {},
     "output_type": "execute_result"
    },
    {
     "data": {
      "image/png": "[encoded data removed]",
      "text/plain": [
       "<Figure size 1152x432 with 1 Axes>"
      ]
     },
     "metadata": {
      "needs_background": "light"
     },
     "output_type": "display_data"
    }
   ],
   "source": [
    "fig=plt.figure(figsize=(16, 6))\n",
    "\n",
    "sns.countplot('timepoint',hue='session',data=prefDF_sig,order=['AB','AC','AD','AE','AF','BC','BD','BE','BF','CD','CE','CF','DE','DF','EF'],hue_order=['1A','1B','2','3','4'])\n",
    "plt.title('counts by session')"
   ]
  },
  {
   "cell_type": "markdown",
   "metadata": {},
   "source": [
    "# Radar Plot"
   ]
  },
  {
   "cell_type": "code",
   "execution_count": 32,
   "metadata": {
    "ExecuteTime": {
     "end_time": "2021-06-22T04:02:10.483249Z",
     "start_time": "2021-06-22T04:02:10.423409Z"
    },
    "code_folding": []
   },
   "outputs": [],
   "source": [
    "def radarPlotDF(countsdf,title,lg1,lg2,**kwargs):\n",
    "    \"\"\"\n",
    "    makes a radar plot from a dataframe with the first two columns being\n",
    "    used as 'pre' and 'post\n",
    "\n",
    "    countssdf: a 2 column dataframe with counts\n",
    "    15: how to scale\n",
    "\n",
    "    optional-\n",
    "    colorcode: put color code or not? 'on' if yes.\n",
    "    \"\"\"\n",
    "    f = plt.figure(figsize=(8,10))\n",
    "\n",
    "    colorcode=kwargs.get('colorcode',None)\n",
    "    savefile=kwargs.get('savefile',None)\n",
    "    version=kwargs.get('version',None)\n",
    "    \n",
    "    \n",
    "    #set up colors\n",
    "    hues=np.linspace(0,1,15,endpoint=False)\n",
    "    hues=['%1.2f' % i for i in hues]\n",
    "    hues=[float(i) for i in hues]\n",
    "    colors = plt.cm.hsv(hues)\n",
    "    # Compute pie slices\n",
    "    N = 15\n",
    "    theta = np.linspace(0.0, 2 * np.pi, N, endpoint=False)\n",
    "    radii = np.repeat(1,N)\n",
    "    width = np.repeat(0.25,N)\n",
    "\n",
    "    #set up data\n",
    "    counts_df1=countsdf.iloc[:,0]\n",
    "    counts_df2=countsdf.iloc[:,1]\n",
    "    \n",
    "    if version=='comp':\n",
    "        counts_df3=countsdf.iloc[:,2]\n",
    "        counts_df4=countsdf.iloc[:,3]\n",
    "        counts_df5=countsdf.iloc[:,4]\n",
    "        counts_df6=countsdf.iloc[:,5]\n",
    "\n",
    "\n",
    "    #     categories1=[str(i) for i in counts_df1.index]#cars\n",
    "#     categories1=['Shirt '+str(i) for i in np.arange(1,16)]\n",
    "#     categories1=[str(np.round(i,decimals=2)) for i in np.linspace(0,1,15,endpoint=False)]\n",
    "    categories1=[str(i) for i in np.arange(1,16)]\n",
    "\n",
    "\n",
    "    N = len(categories1)\n",
    "    #cars\n",
    "    values1=[i for i in counts_df1.values]\n",
    "    values1 += values1[:1] #makes it circular\n",
    "    values2=[i for i in counts_df2.values]\n",
    "    values2 += values2[:1] #makes it circular\n",
    "    \n",
    "    if version=='comp':\n",
    "        values3=[i for i in counts_df3.values]\n",
    "        values3 += values3[:1] #makes it circular\n",
    "\n",
    "        values4=[i for i in counts_df4.values]\n",
    "        values4 += values4[:1] #makes it circular\n",
    "\n",
    "        values5=[i for i in counts_df5.values]\n",
    "        values5 += values5[:1] #makes it circular\n",
    "\n",
    "        values6=[i for i in counts_df6.values]\n",
    "        values6 += values6[:1] #makes it circular\n",
    "    \n",
    "    # What will be the angle of each axis in the plot? (we divide the plot / number of variable)\n",
    "    #this doesn't change for all. all have 16 data points\n",
    "    angles = [n / float(N) * 2 * pi for n in range(N)]\n",
    "    angles += angles[:1]\n",
    "    \n",
    "    \n",
    "    # Initialise the spider plot\n",
    "    ax = f.add_subplot(111, polar=True)\n",
    "    # Draw one axe per variable + add labels labels yet\n",
    "    plt.xticks(angles[:-1], categories1, color='black', size=16)\n",
    "    \n",
    "    ax.set_rlabel_position(180)\n",
    "    # Draw ylabels\n",
    "    ax.set_rlabel_position(320)\n",
    "    plt.yticks([i for i in np.arange(0,14)],[],color=\"black\", size=5)\n",
    "#     plt.yticks([i for i in np.arange(2,15,2)],['2','4','6','8','10','12','14','16'],color=\"black\", size=10)\n",
    "#     plt.yticks([i for i in np.arange(2,14,2)],[''],color=\"grey\", size=0)\n",
    "\n",
    "    plt.ylim(0,14)\n",
    "\n",
    "    ax.plot(angles, values1, linewidth=2, linestyle='solid',color='b')\n",
    "    ax.plot(angles, values2, linewidth=2, linestyle='solid',color='r')\n",
    "    \n",
    "    ax.legend([lg1,lg2],bbox_to_anchor=(-0.2, 0.1))\n",
    "\n",
    "    \n",
    "    if version=='comp':\n",
    "        ax.plot(angles, values3, linewidth=1, linestyle='--',color='r')\n",
    "        ax.plot(angles, values4, linewidth=1, linestyle='--',color='r')\n",
    "        ax.plot(angles, values5, linewidth=1, linestyle='--',color='r')\n",
    "        ax.plot(angles, values6, linewidth=1, linestyle='--',color='r')\n",
    "        \n",
    "        ax.fill(angles, values3,'r',alpha=0.05)\n",
    "        ax.fill(angles, values4,'r',alpha=0.04)\n",
    "        ax.fill(angles, values5,'r',alpha=0.03)\n",
    "        ax.fill(angles, values6,'r',alpha=0.02)\n",
    "        ax.legend(['1A','1B','2','3','4','5'],bbox_to_anchor=(0.1, 0.1))\n",
    "\n",
    "\n",
    "    # Fill area\n",
    "    ax.fill(angles, values1,'blue',alpha=0.15)\n",
    "    ax.fill(angles, values2,'red',alpha=0.15)\n",
    "\n",
    "\n",
    "    if colorcode=='on':\n",
    "        bars = ax.bar(theta, radii, width=width, bottom=13.5, color=colors)\n",
    "\n",
    "    # Add legend\n",
    "    plt.title(title)\n",
    "    if savefile=='on':\n",
    "        plt.savefig(title+'.png', dpi=350, transparent=True)\n"
   ]
  },
  {
   "cell_type": "code",
   "execution_count": 45,
   "metadata": {
    "ExecuteTime": {
     "end_time": "2021-06-22T04:26:58.332007Z",
     "start_time": "2021-06-22T04:26:58.284036Z"
    },
    "code_folding": []
   },
   "outputs": [],
   "source": [
    "def plotRadar(objectDict,subSort,category,call,**kwargs):\n",
    "    \"\"\"\n",
    "    makes plotting radar plots easier\n",
    "    \n",
    "    objectDict= dictionary with subject objects\n",
    "    subSort=subSortAF number\n",
    "    category=shirt/car/phone\n",
    "    call='Fixed' or Consecutive\n",
    "    \"\"\"\n",
    "    \n",
    "    savefile=kwargs.get('savefile',None)\n",
    "\n",
    "    finalSubs=['sub'+str(i) for i in np.concatenate([np.arange(1,84),np.arange(85,97)])]#removed 84 which is random\n",
    "\n",
    "    AFtoSub=dict(zip([Subs[i].subSortAF for i in finalSubs],\n",
    "         [Subs[i].newsubnum for i in finalSubs]))\n",
    "         \n",
    "    subnum=str(AFtoSub[subSort])#grabbed from below\n",
    "    print(subnum)\n",
    "    df=getattr(objectDict['sub'+subnum],'ABCDEF_'+category+'Counts')\n",
    "    \n",
    "    #add distance\n",
    "    fixed_d=[item for sublist in [prefDF[(prefDF['timepoint']==i) & \n",
    "       (prefDF['category']=='Shirts') &\n",
    "      (prefDF['subSortAF']==subSort)].distances.values for i in ['AB','AC','AD','AE','AF']] for item in sublist]\n",
    "    \n",
    "    con_d=[item for sublist in [prefDF[(prefDF['timepoint']==i) & \n",
    "       (prefDF['category']==category) &\n",
    "      (prefDF['subSortAF']==subSort)].distances.values for i in ['AB','BC','CD','DE','EF']] for item in sublist]\n",
    "    \n",
    "    \n",
    "    \n",
    "    if call=='F':\n",
    "                \n",
    "        sns.pointplot(['AB','AC','AD','AE','AF'],[i/105 for i in fixed_d])\n",
    "\n",
    "        radarPlotDF(df.iloc[:,np.r_[0,1]],'sub'+str(subSort)+' --AB'+'_dist_'+str(np.round(fixed_d[0]/105,2)),'pre','20min',colorcode='on',savefile=savefile)\n",
    "        radarPlotDF(df.iloc[:,np.r_[0,2]],'sub'+str(subSort)+' --AC'+'_dist_'+str(np.round(fixed_d[1]/105,2)),'pre','1wk',colorcode='on',savefile=savefile)\n",
    "        radarPlotDF(df.iloc[:,np.r_[0,3]],'sub'+str(subSort)+' --AD'+'_dist_'+str(np.round(fixed_d[2]/105,2)),'pre','2wks',colorcode='on',savefile=savefile)\n",
    "        radarPlotDF(df.iloc[:,np.r_[0,4]],'sub'+str(subSort)+' --AE'+'_dist_'+str(np.round(fixed_d[3]/105,2)),'pre','3wks',colorcode='on',savefile=savefile)\n",
    "        radarPlotDF(df.iloc[:,np.r_[0,5]],'sub'+str(subSort)+' --AF'+'_dist_'+str(np.round(fixed_d[4]/105,2)),'pre','4wks',colorcode='on',savefile=savefile)\n",
    "        \n",
    "    if call=='C':\n",
    "        sns.pointplot(['AB','BC','CD','DE','EF'],[i/105 for i in con_d])\n",
    "\n",
    "        radarPlotDF(df.iloc[:,np.r_[0,1]],'sub'+str(subSort)+' --AB'+'_dist_'+str(np.round(con_d[0]/105,2)),'pre','20min',colorcode='on')\n",
    "        radarPlotDF(df.iloc[:,np.r_[1,2]],'sub'+str(subSort)+' --BC'+'_dist_'+str(np.round(con_d[1]/105,2)),'20min','1wk',colorcode='on')\n",
    "        radarPlotDF(df.iloc[:,np.r_[2,3]],'sub'+str(subSort)+' --CD'+'_dist_'+str(np.round(con_d[2]/105,2)),'1wk','2wks',colorcode='on')\n",
    "        radarPlotDF(df.iloc[:,np.r_[3,4]],'sub'+str(subSort)+' --DE'+'_dist_'+str(np.round(con_d[3]/105,2)),'2wks','3wks',colorcode='on')\n",
    "        radarPlotDF(df.iloc[:,np.r_[4,5]],'sub'+str(subSort)+' --EF'+'_dist_'+str(np.round(con_d[4]/105,2)),'3wks','4wks',colorcode='on')\n",
    "        "
   ]
  },
  {
   "cell_type": "code",
   "execution_count": 47,
   "metadata": {
    "ExecuteTime": {
     "end_time": "2021-06-22T04:27:05.673132Z",
     "start_time": "2021-06-22T04:27:05.226830Z"
    }
   },
   "outputs": [
    {
     "data": {
      "image/png": "[encoded data removed]",
      "text/plain": [
       "<Figure size 576x720 with 1 Axes>"
      ]
     },
     "metadata": {
      "needs_background": "light"
     },
     "output_type": "display_data"
    }
   ],
   "source": [
    "radarPlotDF(Subs['sub60'].ABCDEF_ShirtsCounts,'sub1','pre','post',version='comp',colorcode='on')"
   ]
  },
  {
   "cell_type": "markdown",
   "metadata": {},
   "source": [
    "Changes from first counts to subsequent sessions"
   ]
  },
  {
   "cell_type": "markdown",
   "metadata": {},
   "source": [
    "## Comparision of instabilities across three illustrative subjects"
   ]
  },
  {
   "cell_type": "code",
   "execution_count": 14,
   "metadata": {
    "ExecuteTime": {
     "end_time": "2021-06-29T19:38:28.988270Z",
     "start_time": "2021-06-29T19:38:28.577190Z"
    }
   },
   "outputs": [
    {
     "data": {
      "image/png": "[encoded data removed]",
      "text/plain": [
       "<Figure size 1296x216 with 1 Axes>"
      ]
     },
     "metadata": {
      "needs_background": "light"
     },
     "output_type": "display_data"
    }
   ],
   "source": [
    "threeBody=[]\n",
    "for k in [3,56,90]:\n",
    "    threeBody.append([item for sublist in [prefDF[(prefDF['timepoint']==i) & \n",
    "   (prefDF['category']=='Cars') &\n",
    "  (prefDF['subSortAF']==k)].distances.values for i in ['AB','AC','AD','AE','AF']] for item in sublist])\n",
    "threeBody=pd.DataFrame(threeBody)\n",
    "threeBody.columns=['20min','1wk','2wks','3wks','4wks']\n",
    "threeBody.index=['Stable','Unstable', 'Directed']\n",
    "threeBody=threeBody.T\n",
    "threeBody=threeBody.melt()\n",
    "threeBody['Timepoint']=np.tile(['20min','1wk','2wks','3wks','4wks'],3)\n",
    "threeBody['value']=threeBody.value/105\n",
    "threeBody.columns=['Type','Instability','Timepoint']\n",
    "\n",
    "fig=plt.figure(figsize=(18, 3))\n",
    "ax=sns.barplot(x='Timepoint',hue='Type',y='Instability',data=threeBody,palette='rocket')\n",
    "handles, labels = ax.get_legend_handles_labels()\n",
    "ax.legend(handles=handles[0:], labels=labels[0:])\n",
    "# ax.spines['right'].set_visible(False)\n",
    "# ax.spines['top'].set_visible(False)\n",
    "plt.subplots_adjust(left=0.3, right=0.9, bottom=0.3, top=0.9)\n",
    "# plt.savefig('subPoint'+'.png', dpi=500, transparent=True,bbox_inches='tight')\n"
   ]
  },
  {
   "cell_type": "markdown",
   "metadata": {},
   "source": [
    "The 'stable' subject did not change their preferences much, whereas the other two subjects changed, the 'unstable' subject was not consistent in how they change, whereas the 'directed' subject was"
   ]
  },
  {
   "cell_type": "markdown",
   "metadata": {},
   "source": [
    "# Hochberg Correction"
   ]
  },
  {
   "cell_type": "markdown",
   "metadata": {},
   "source": [
    "need to do a correction for multiple comparisons"
   ]
  },
  {
   "cell_type": "code",
   "execution_count": 97,
   "metadata": {
    "ExecuteTime": {
     "end_time": "2021-06-25T19:25:26.236049Z",
     "start_time": "2021-06-25T19:25:26.224082Z"
    }
   },
   "outputs": [],
   "source": [
    "foo=prefDF.groupby('subSortAF').get_group(1)"
   ]
  },
  {
   "cell_type": "code",
   "execution_count": 98,
   "metadata": {
    "ExecuteTime": {
     "end_time": "2021-06-25T19:25:32.819987Z",
     "start_time": "2021-06-25T19:25:32.801039Z"
    }
   },
   "outputs": [
    {
     "name": "stderr",
     "output_type": "stream",
     "text": [
      "C:\\Users\\al33m\\AppData\\Local\\Continuum\\anaconda3\\lib\\site-packages\\ipykernel_launcher.py:1: SettingWithCopyWarning:\n",
      "\n",
      "\n",
      "A value is trying to be set on a copy of a slice from a DataFrame.\n",
      "Try using .loc[row_indexer,col_indexer] = value instead\n",
      "\n",
      "See the caveats in the documentation: https://pandas.pydata.org/pandas-docs/stable/user_guide/indexing.html#returning-a-view-versus-a-copy\n",
      "\n"
     ]
    }
   ],
   "source": [
    "foo['rank']=stats.rankdata(prefDF.groupby('subSortAF').get_group(1)['pval'])"
   ]
  },
  {
   "cell_type": "code",
   "execution_count": 101,
   "metadata": {
    "ExecuteTime": {
     "end_time": "2021-06-25T19:26:09.100376Z",
     "start_time": "2021-06-25T19:26:09.092398Z"
    }
   },
   "outputs": [],
   "source": [
    "foo=foo.sort_values(by='rank')"
   ]
  },
  {
   "cell_type": "code",
   "execution_count": 102,
   "metadata": {
    "ExecuteTime": {
     "end_time": "2021-06-25T19:26:43.574168Z",
     "start_time": "2021-06-25T19:26:43.555218Z"
    }
   },
   "outputs": [
    {
     "data": {
      "text/plain": [
       "45"
      ]
     },
     "execution_count": 102,
     "metadata": {},
     "output_type": "execute_result"
    }
   ],
   "source": [
    "len(foo)"
   ]
  },
  {
   "cell_type": "code",
   "execution_count": 103,
   "metadata": {
    "ExecuteTime": {
     "end_time": "2021-06-25T19:26:59.760454Z",
     "start_time": "2021-06-25T19:26:59.753502Z"
    }
   },
   "outputs": [],
   "source": [
    "foo['test']=0.05"
   ]
  },
  {
   "cell_type": "code",
   "execution_count": 104,
   "metadata": {
    "ExecuteTime": {
     "end_time": "2021-06-25T19:33:10.159492Z",
     "start_time": "2021-06-25T19:33:10.140534Z"
    }
   },
   "outputs": [],
   "source": [
    "foo['hochberg']=(foo['rank']/45)*0.05"
   ]
  },
  {
   "cell_type": "code",
   "execution_count": 105,
   "metadata": {
    "ExecuteTime": {
     "end_time": "2021-06-25T19:33:12.402608Z",
     "start_time": "2021-06-25T19:33:12.337759Z"
    }
   },
   "outputs": [
    {
     "data": {
      "text/html": [
       "<div>\n",
       "<style scoped>\n",
       "    .dataframe tbody tr th:only-of-type {\n",
       "        vertical-align: middle;\n",
       "    }\n",
       "\n",
       "    .dataframe tbody tr th {\n",
       "        vertical-align: top;\n",
       "    }\n",
       "\n",
       "    .dataframe thead th {\n",
       "        text-align: right;\n",
       "    }\n",
       "</style>\n",
       "<table border=\"1\" class=\"dataframe\">\n",
       "  <thead>\n",
       "    <tr style=\"text-align: right;\">\n",
       "      <th></th>\n",
       "      <th>timepoint</th>\n",
       "      <th>session</th>\n",
       "      <th>elapTime</th>\n",
       "      <th>class</th>\n",
       "      <th>choices</th>\n",
       "      <th>distances</th>\n",
       "      <th>Z</th>\n",
       "      <th>pval</th>\n",
       "      <th>subname</th>\n",
       "      <th>category</th>\n",
       "      <th>subSortAF</th>\n",
       "      <th>change</th>\n",
       "      <th>rank</th>\n",
       "      <th>test</th>\n",
       "      <th>hochberg</th>\n",
       "    </tr>\n",
       "  </thead>\n",
       "  <tbody>\n",
       "    <tr>\n",
       "      <th>1849</th>\n",
       "      <td>AF</td>\n",
       "      <td>1A</td>\n",
       "      <td>4wks</td>\n",
       "      <td>Fixed</td>\n",
       "      <td>5</td>\n",
       "      <td>11</td>\n",
       "      <td>2.752715</td>\n",
       "      <td>0.002955</td>\n",
       "      <td>sub47</td>\n",
       "      <td>Shirts</td>\n",
       "      <td>1</td>\n",
       "      <td>No</td>\n",
       "      <td>1.0</td>\n",
       "      <td>0.05</td>\n",
       "      <td>0.001111</td>\n",
       "    </tr>\n",
       "    <tr>\n",
       "      <th>1876</th>\n",
       "      <td>AC</td>\n",
       "      <td>1A</td>\n",
       "      <td>1wk</td>\n",
       "      <td>Fixed</td>\n",
       "      <td>2</td>\n",
       "      <td>9</td>\n",
       "      <td>2.457130</td>\n",
       "      <td>0.007003</td>\n",
       "      <td>sub47</td>\n",
       "      <td>Phones</td>\n",
       "      <td>1</td>\n",
       "      <td>No</td>\n",
       "      <td>2.0</td>\n",
       "      <td>0.05</td>\n",
       "      <td>0.002222</td>\n",
       "    </tr>\n",
       "    <tr>\n",
       "      <th>1846</th>\n",
       "      <td>AC</td>\n",
       "      <td>1A</td>\n",
       "      <td>1wk</td>\n",
       "      <td>Fixed</td>\n",
       "      <td>2</td>\n",
       "      <td>10</td>\n",
       "      <td>2.214140</td>\n",
       "      <td>0.013410</td>\n",
       "      <td>sub47</td>\n",
       "      <td>Shirts</td>\n",
       "      <td>1</td>\n",
       "      <td>No</td>\n",
       "      <td>3.0</td>\n",
       "      <td>0.05</td>\n",
       "      <td>0.003333</td>\n",
       "    </tr>\n",
       "    <tr>\n",
       "      <th>1864</th>\n",
       "      <td>AF</td>\n",
       "      <td>1A</td>\n",
       "      <td>4wks</td>\n",
       "      <td>Fixed</td>\n",
       "      <td>5</td>\n",
       "      <td>8</td>\n",
       "      <td>2.112100</td>\n",
       "      <td>0.017339</td>\n",
       "      <td>sub47</td>\n",
       "      <td>Cars</td>\n",
       "      <td>1</td>\n",
       "      <td>No</td>\n",
       "      <td>4.0</td>\n",
       "      <td>0.05</td>\n",
       "      <td>0.004444</td>\n",
       "    </tr>\n",
       "    <tr>\n",
       "      <th>1878</th>\n",
       "      <td>AE</td>\n",
       "      <td>1A</td>\n",
       "      <td>3wks</td>\n",
       "      <td>Fixed</td>\n",
       "      <td>4</td>\n",
       "      <td>8</td>\n",
       "      <td>1.859449</td>\n",
       "      <td>0.031482</td>\n",
       "      <td>sub47</td>\n",
       "      <td>Phones</td>\n",
       "      <td>1</td>\n",
       "      <td>No</td>\n",
       "      <td>5.5</td>\n",
       "      <td>0.05</td>\n",
       "      <td>0.006111</td>\n",
       "    </tr>\n",
       "    <tr>\n",
       "      <th>1880</th>\n",
       "      <td>BC</td>\n",
       "      <td>1B</td>\n",
       "      <td>1wk</td>\n",
       "      <td>Consecutive</td>\n",
       "      <td>2</td>\n",
       "      <td>8</td>\n",
       "      <td>1.859449</td>\n",
       "      <td>0.031482</td>\n",
       "      <td>sub47</td>\n",
       "      <td>Phones</td>\n",
       "      <td>1</td>\n",
       "      <td>No</td>\n",
       "      <td>5.5</td>\n",
       "      <td>0.05</td>\n",
       "      <td>0.006111</td>\n",
       "    </tr>\n",
       "    <tr>\n",
       "      <th>1862</th>\n",
       "      <td>AD</td>\n",
       "      <td>1A</td>\n",
       "      <td>2wks</td>\n",
       "      <td>Fixed</td>\n",
       "      <td>3</td>\n",
       "      <td>7</td>\n",
       "      <td>1.478470</td>\n",
       "      <td>0.069641</td>\n",
       "      <td>sub47</td>\n",
       "      <td>Cars</td>\n",
       "      <td>1</td>\n",
       "      <td>No</td>\n",
       "      <td>7.5</td>\n",
       "      <td>0.05</td>\n",
       "      <td>0.008333</td>\n",
       "    </tr>\n",
       "    <tr>\n",
       "      <th>1873</th>\n",
       "      <td>DF</td>\n",
       "      <td>3</td>\n",
       "      <td>2wks</td>\n",
       "      <td>Misc</td>\n",
       "      <td>5</td>\n",
       "      <td>7</td>\n",
       "      <td>1.478470</td>\n",
       "      <td>0.069641</td>\n",
       "      <td>sub47</td>\n",
       "      <td>Cars</td>\n",
       "      <td>1</td>\n",
       "      <td>No</td>\n",
       "      <td>7.5</td>\n",
       "      <td>0.05</td>\n",
       "      <td>0.008333</td>\n",
       "    </tr>\n",
       "    <tr>\n",
       "      <th>1882</th>\n",
       "      <td>BE</td>\n",
       "      <td>1B</td>\n",
       "      <td>3wks</td>\n",
       "      <td>Misc</td>\n",
       "      <td>4</td>\n",
       "      <td>7</td>\n",
       "      <td>1.261769</td>\n",
       "      <td>0.103516</td>\n",
       "      <td>sub47</td>\n",
       "      <td>Phones</td>\n",
       "      <td>1</td>\n",
       "      <td>No</td>\n",
       "      <td>10.0</td>\n",
       "      <td>0.05</td>\n",
       "      <td>0.011111</td>\n",
       "    </tr>\n",
       "    <tr>\n",
       "      <th>1879</th>\n",
       "      <td>AF</td>\n",
       "      <td>1A</td>\n",
       "      <td>4wks</td>\n",
       "      <td>Fixed</td>\n",
       "      <td>5</td>\n",
       "      <td>7</td>\n",
       "      <td>1.261769</td>\n",
       "      <td>0.103516</td>\n",
       "      <td>sub47</td>\n",
       "      <td>Phones</td>\n",
       "      <td>1</td>\n",
       "      <td>No</td>\n",
       "      <td>10.0</td>\n",
       "      <td>0.05</td>\n",
       "      <td>0.011111</td>\n",
       "    </tr>\n",
       "    <tr>\n",
       "      <th>1875</th>\n",
       "      <td>AB</td>\n",
       "      <td>1A</td>\n",
       "      <td>20min</td>\n",
       "      <td>Fixed</td>\n",
       "      <td>1</td>\n",
       "      <td>7</td>\n",
       "      <td>1.261769</td>\n",
       "      <td>0.103516</td>\n",
       "      <td>sub47</td>\n",
       "      <td>Phones</td>\n",
       "      <td>1</td>\n",
       "      <td>No</td>\n",
       "      <td>10.0</td>\n",
       "      <td>0.05</td>\n",
       "      <td>0.011111</td>\n",
       "    </tr>\n",
       "    <tr>\n",
       "      <th>1848</th>\n",
       "      <td>AE</td>\n",
       "      <td>1A</td>\n",
       "      <td>3wks</td>\n",
       "      <td>Fixed</td>\n",
       "      <td>4</td>\n",
       "      <td>8</td>\n",
       "      <td>1.136991</td>\n",
       "      <td>0.127771</td>\n",
       "      <td>sub47</td>\n",
       "      <td>Shirts</td>\n",
       "      <td>1</td>\n",
       "      <td>No</td>\n",
       "      <td>12.0</td>\n",
       "      <td>0.05</td>\n",
       "      <td>0.013333</td>\n",
       "    </tr>\n",
       "    <tr>\n",
       "      <th>1863</th>\n",
       "      <td>AE</td>\n",
       "      <td>1A</td>\n",
       "      <td>3wks</td>\n",
       "      <td>Fixed</td>\n",
       "      <td>4</td>\n",
       "      <td>6</td>\n",
       "      <td>0.844840</td>\n",
       "      <td>0.199100</td>\n",
       "      <td>sub47</td>\n",
       "      <td>Cars</td>\n",
       "      <td>1</td>\n",
       "      <td>No</td>\n",
       "      <td>13.0</td>\n",
       "      <td>0.05</td>\n",
       "      <td>0.014444</td>\n",
       "    </tr>\n",
       "    <tr>\n",
       "      <th>1845</th>\n",
       "      <td>AB</td>\n",
       "      <td>1A</td>\n",
       "      <td>20min</td>\n",
       "      <td>Fixed</td>\n",
       "      <td>1</td>\n",
       "      <td>7</td>\n",
       "      <td>0.598416</td>\n",
       "      <td>0.274781</td>\n",
       "      <td>sub47</td>\n",
       "      <td>Shirts</td>\n",
       "      <td>1</td>\n",
       "      <td>No</td>\n",
       "      <td>16.0</td>\n",
       "      <td>0.05</td>\n",
       "      <td>0.017778</td>\n",
       "    </tr>\n",
       "    <tr>\n",
       "      <th>1854</th>\n",
       "      <td>CD</td>\n",
       "      <td>2</td>\n",
       "      <td>1wk</td>\n",
       "      <td>Consecutive</td>\n",
       "      <td>3</td>\n",
       "      <td>7</td>\n",
       "      <td>0.598416</td>\n",
       "      <td>0.274781</td>\n",
       "      <td>sub47</td>\n",
       "      <td>Shirts</td>\n",
       "      <td>1</td>\n",
       "      <td>No</td>\n",
       "      <td>16.0</td>\n",
       "      <td>0.05</td>\n",
       "      <td>0.017778</td>\n",
       "    </tr>\n",
       "    <tr>\n",
       "      <th>1850</th>\n",
       "      <td>BC</td>\n",
       "      <td>1B</td>\n",
       "      <td>1wk</td>\n",
       "      <td>Consecutive</td>\n",
       "      <td>2</td>\n",
       "      <td>7</td>\n",
       "      <td>0.598416</td>\n",
       "      <td>0.274781</td>\n",
       "      <td>sub47</td>\n",
       "      <td>Shirts</td>\n",
       "      <td>1</td>\n",
       "      <td>No</td>\n",
       "      <td>16.0</td>\n",
       "      <td>0.05</td>\n",
       "      <td>0.017778</td>\n",
       "    </tr>\n",
       "    <tr>\n",
       "      <th>1847</th>\n",
       "      <td>AD</td>\n",
       "      <td>1A</td>\n",
       "      <td>2wks</td>\n",
       "      <td>Fixed</td>\n",
       "      <td>3</td>\n",
       "      <td>7</td>\n",
       "      <td>0.598416</td>\n",
       "      <td>0.274781</td>\n",
       "      <td>sub47</td>\n",
       "      <td>Shirts</td>\n",
       "      <td>1</td>\n",
       "      <td>No</td>\n",
       "      <td>16.0</td>\n",
       "      <td>0.05</td>\n",
       "      <td>0.017778</td>\n",
       "    </tr>\n",
       "    <tr>\n",
       "      <th>1856</th>\n",
       "      <td>CF</td>\n",
       "      <td>2</td>\n",
       "      <td>3wks</td>\n",
       "      <td>Misc</td>\n",
       "      <td>5</td>\n",
       "      <td>7</td>\n",
       "      <td>0.598416</td>\n",
       "      <td>0.274781</td>\n",
       "      <td>sub47</td>\n",
       "      <td>Shirts</td>\n",
       "      <td>1</td>\n",
       "      <td>No</td>\n",
       "      <td>16.0</td>\n",
       "      <td>0.05</td>\n",
       "      <td>0.017778</td>\n",
       "    </tr>\n",
       "    <tr>\n",
       "      <th>1872</th>\n",
       "      <td>DE</td>\n",
       "      <td>3</td>\n",
       "      <td>1wk</td>\n",
       "      <td>Consecutive</td>\n",
       "      <td>4</td>\n",
       "      <td>5</td>\n",
       "      <td>0.211210</td>\n",
       "      <td>0.416362</td>\n",
       "      <td>sub47</td>\n",
       "      <td>Cars</td>\n",
       "      <td>1</td>\n",
       "      <td>No</td>\n",
       "      <td>21.5</td>\n",
       "      <td>0.05</td>\n",
       "      <td>0.023889</td>\n",
       "    </tr>\n",
       "    <tr>\n",
       "      <th>1871</th>\n",
       "      <td>CF</td>\n",
       "      <td>2</td>\n",
       "      <td>3wks</td>\n",
       "      <td>Misc</td>\n",
       "      <td>5</td>\n",
       "      <td>5</td>\n",
       "      <td>0.211210</td>\n",
       "      <td>0.416362</td>\n",
       "      <td>sub47</td>\n",
       "      <td>Cars</td>\n",
       "      <td>1</td>\n",
       "      <td>No</td>\n",
       "      <td>21.5</td>\n",
       "      <td>0.05</td>\n",
       "      <td>0.023889</td>\n",
       "    </tr>\n",
       "    <tr>\n",
       "      <th>1868</th>\n",
       "      <td>BF</td>\n",
       "      <td>1B</td>\n",
       "      <td>4wks</td>\n",
       "      <td>Misc</td>\n",
       "      <td>5</td>\n",
       "      <td>5</td>\n",
       "      <td>0.211210</td>\n",
       "      <td>0.416362</td>\n",
       "      <td>sub47</td>\n",
       "      <td>Cars</td>\n",
       "      <td>1</td>\n",
       "      <td>No</td>\n",
       "      <td>21.5</td>\n",
       "      <td>0.05</td>\n",
       "      <td>0.023889</td>\n",
       "    </tr>\n",
       "    <tr>\n",
       "      <th>1867</th>\n",
       "      <td>BE</td>\n",
       "      <td>1B</td>\n",
       "      <td>3wks</td>\n",
       "      <td>Misc</td>\n",
       "      <td>4</td>\n",
       "      <td>5</td>\n",
       "      <td>0.211210</td>\n",
       "      <td>0.416362</td>\n",
       "      <td>sub47</td>\n",
       "      <td>Cars</td>\n",
       "      <td>1</td>\n",
       "      <td>No</td>\n",
       "      <td>21.5</td>\n",
       "      <td>0.05</td>\n",
       "      <td>0.023889</td>\n",
       "    </tr>\n",
       "    <tr>\n",
       "      <th>1861</th>\n",
       "      <td>AC</td>\n",
       "      <td>1A</td>\n",
       "      <td>1wk</td>\n",
       "      <td>Fixed</td>\n",
       "      <td>2</td>\n",
       "      <td>5</td>\n",
       "      <td>0.211210</td>\n",
       "      <td>0.416362</td>\n",
       "      <td>sub47</td>\n",
       "      <td>Cars</td>\n",
       "      <td>1</td>\n",
       "      <td>No</td>\n",
       "      <td>21.5</td>\n",
       "      <td>0.05</td>\n",
       "      <td>0.023889</td>\n",
       "    </tr>\n",
       "    <tr>\n",
       "      <th>1860</th>\n",
       "      <td>AB</td>\n",
       "      <td>1A</td>\n",
       "      <td>20min</td>\n",
       "      <td>Fixed</td>\n",
       "      <td>1</td>\n",
       "      <td>5</td>\n",
       "      <td>0.211210</td>\n",
       "      <td>0.416362</td>\n",
       "      <td>sub47</td>\n",
       "      <td>Cars</td>\n",
       "      <td>1</td>\n",
       "      <td>No</td>\n",
       "      <td>21.5</td>\n",
       "      <td>0.05</td>\n",
       "      <td>0.023889</td>\n",
       "    </tr>\n",
       "    <tr>\n",
       "      <th>1884</th>\n",
       "      <td>CD</td>\n",
       "      <td>2</td>\n",
       "      <td>1wk</td>\n",
       "      <td>Consecutive</td>\n",
       "      <td>3</td>\n",
       "      <td>5</td>\n",
       "      <td>0.066409</td>\n",
       "      <td>0.473526</td>\n",
       "      <td>sub47</td>\n",
       "      <td>Phones</td>\n",
       "      <td>1</td>\n",
       "      <td>No</td>\n",
       "      <td>25.0</td>\n",
       "      <td>0.05</td>\n",
       "      <td>0.027778</td>\n",
       "    </tr>\n",
       "    <tr>\n",
       "      <th>1858</th>\n",
       "      <td>DF</td>\n",
       "      <td>3</td>\n",
       "      <td>2wks</td>\n",
       "      <td>Misc</td>\n",
       "      <td>5</td>\n",
       "      <td>6</td>\n",
       "      <td>0.059842</td>\n",
       "      <td>0.476141</td>\n",
       "      <td>sub47</td>\n",
       "      <td>Shirts</td>\n",
       "      <td>1</td>\n",
       "      <td>No</td>\n",
       "      <td>27.0</td>\n",
       "      <td>0.05</td>\n",
       "      <td>0.030000</td>\n",
       "    </tr>\n",
       "    <tr>\n",
       "      <th>1853</th>\n",
       "      <td>BF</td>\n",
       "      <td>1B</td>\n",
       "      <td>4wks</td>\n",
       "      <td>Misc</td>\n",
       "      <td>5</td>\n",
       "      <td>6</td>\n",
       "      <td>0.059842</td>\n",
       "      <td>0.476141</td>\n",
       "      <td>sub47</td>\n",
       "      <td>Shirts</td>\n",
       "      <td>1</td>\n",
       "      <td>No</td>\n",
       "      <td>27.0</td>\n",
       "      <td>0.05</td>\n",
       "      <td>0.030000</td>\n",
       "    </tr>\n",
       "    <tr>\n",
       "      <th>1851</th>\n",
       "      <td>BD</td>\n",
       "      <td>1B</td>\n",
       "      <td>2wks</td>\n",
       "      <td>Misc</td>\n",
       "      <td>3</td>\n",
       "      <td>6</td>\n",
       "      <td>0.059842</td>\n",
       "      <td>0.476141</td>\n",
       "      <td>sub47</td>\n",
       "      <td>Shirts</td>\n",
       "      <td>1</td>\n",
       "      <td>No</td>\n",
       "      <td>27.0</td>\n",
       "      <td>0.05</td>\n",
       "      <td>0.030000</td>\n",
       "    </tr>\n",
       "    <tr>\n",
       "      <th>1865</th>\n",
       "      <td>BC</td>\n",
       "      <td>1B</td>\n",
       "      <td>1wk</td>\n",
       "      <td>Consecutive</td>\n",
       "      <td>2</td>\n",
       "      <td>4</td>\n",
       "      <td>-0.422420</td>\n",
       "      <td>0.663641</td>\n",
       "      <td>sub47</td>\n",
       "      <td>Cars</td>\n",
       "      <td>1</td>\n",
       "      <td>No</td>\n",
       "      <td>30.0</td>\n",
       "      <td>0.05</td>\n",
       "      <td>0.033333</td>\n",
       "    </tr>\n",
       "    <tr>\n",
       "      <th>1869</th>\n",
       "      <td>CD</td>\n",
       "      <td>2</td>\n",
       "      <td>1wk</td>\n",
       "      <td>Consecutive</td>\n",
       "      <td>3</td>\n",
       "      <td>4</td>\n",
       "      <td>-0.422420</td>\n",
       "      <td>0.663641</td>\n",
       "      <td>sub47</td>\n",
       "      <td>Cars</td>\n",
       "      <td>1</td>\n",
       "      <td>No</td>\n",
       "      <td>30.0</td>\n",
       "      <td>0.05</td>\n",
       "      <td>0.033333</td>\n",
       "    </tr>\n",
       "    <tr>\n",
       "      <th>1866</th>\n",
       "      <td>BD</td>\n",
       "      <td>1B</td>\n",
       "      <td>2wks</td>\n",
       "      <td>Misc</td>\n",
       "      <td>3</td>\n",
       "      <td>4</td>\n",
       "      <td>-0.422420</td>\n",
       "      <td>0.663641</td>\n",
       "      <td>sub47</td>\n",
       "      <td>Cars</td>\n",
       "      <td>1</td>\n",
       "      <td>No</td>\n",
       "      <td>30.0</td>\n",
       "      <td>0.05</td>\n",
       "      <td>0.033333</td>\n",
       "    </tr>\n",
       "    <tr>\n",
       "      <th>1852</th>\n",
       "      <td>BE</td>\n",
       "      <td>1B</td>\n",
       "      <td>3wks</td>\n",
       "      <td>Misc</td>\n",
       "      <td>4</td>\n",
       "      <td>5</td>\n",
       "      <td>-0.478733</td>\n",
       "      <td>0.683936</td>\n",
       "      <td>sub47</td>\n",
       "      <td>Shirts</td>\n",
       "      <td>1</td>\n",
       "      <td>No</td>\n",
       "      <td>32.0</td>\n",
       "      <td>0.05</td>\n",
       "      <td>0.035556</td>\n",
       "    </tr>\n",
       "    <tr>\n",
       "      <th>1883</th>\n",
       "      <td>BF</td>\n",
       "      <td>1B</td>\n",
       "      <td>4wks</td>\n",
       "      <td>Misc</td>\n",
       "      <td>5</td>\n",
       "      <td>4</td>\n",
       "      <td>-0.531271</td>\n",
       "      <td>0.702385</td>\n",
       "      <td>sub47</td>\n",
       "      <td>Phones</td>\n",
       "      <td>1</td>\n",
       "      <td>No</td>\n",
       "      <td>34.5</td>\n",
       "      <td>0.05</td>\n",
       "      <td>0.038333</td>\n",
       "    </tr>\n",
       "    <tr>\n",
       "      <th>1886</th>\n",
       "      <td>CF</td>\n",
       "      <td>2</td>\n",
       "      <td>3wks</td>\n",
       "      <td>Misc</td>\n",
       "      <td>5</td>\n",
       "      <td>4</td>\n",
       "      <td>-0.531271</td>\n",
       "      <td>0.702385</td>\n",
       "      <td>sub47</td>\n",
       "      <td>Phones</td>\n",
       "      <td>1</td>\n",
       "      <td>No</td>\n",
       "      <td>34.5</td>\n",
       "      <td>0.05</td>\n",
       "      <td>0.038333</td>\n",
       "    </tr>\n",
       "    <tr>\n",
       "      <th>1887</th>\n",
       "      <td>DE</td>\n",
       "      <td>3</td>\n",
       "      <td>1wk</td>\n",
       "      <td>Consecutive</td>\n",
       "      <td>4</td>\n",
       "      <td>4</td>\n",
       "      <td>-0.531271</td>\n",
       "      <td>0.702385</td>\n",
       "      <td>sub47</td>\n",
       "      <td>Phones</td>\n",
       "      <td>1</td>\n",
       "      <td>No</td>\n",
       "      <td>34.5</td>\n",
       "      <td>0.05</td>\n",
       "      <td>0.038333</td>\n",
       "    </tr>\n",
       "    <tr>\n",
       "      <th>1877</th>\n",
       "      <td>AD</td>\n",
       "      <td>1A</td>\n",
       "      <td>2wks</td>\n",
       "      <td>Fixed</td>\n",
       "      <td>3</td>\n",
       "      <td>4</td>\n",
       "      <td>-0.531271</td>\n",
       "      <td>0.702385</td>\n",
       "      <td>sub47</td>\n",
       "      <td>Phones</td>\n",
       "      <td>1</td>\n",
       "      <td>No</td>\n",
       "      <td>34.5</td>\n",
       "      <td>0.05</td>\n",
       "      <td>0.038333</td>\n",
       "    </tr>\n",
       "    <tr>\n",
       "      <th>1855</th>\n",
       "      <td>CE</td>\n",
       "      <td>2</td>\n",
       "      <td>2wks</td>\n",
       "      <td>Misc</td>\n",
       "      <td>4</td>\n",
       "      <td>4</td>\n",
       "      <td>-1.017308</td>\n",
       "      <td>0.845496</td>\n",
       "      <td>sub47</td>\n",
       "      <td>Shirts</td>\n",
       "      <td>1</td>\n",
       "      <td>No</td>\n",
       "      <td>37.0</td>\n",
       "      <td>0.05</td>\n",
       "      <td>0.041111</td>\n",
       "    </tr>\n",
       "    <tr>\n",
       "      <th>1870</th>\n",
       "      <td>CE</td>\n",
       "      <td>2</td>\n",
       "      <td>2wks</td>\n",
       "      <td>Misc</td>\n",
       "      <td>4</td>\n",
       "      <td>3</td>\n",
       "      <td>-1.056050</td>\n",
       "      <td>0.854527</td>\n",
       "      <td>sub47</td>\n",
       "      <td>Cars</td>\n",
       "      <td>1</td>\n",
       "      <td>No</td>\n",
       "      <td>38.0</td>\n",
       "      <td>0.05</td>\n",
       "      <td>0.042222</td>\n",
       "    </tr>\n",
       "    <tr>\n",
       "      <th>1885</th>\n",
       "      <td>CE</td>\n",
       "      <td>2</td>\n",
       "      <td>2wks</td>\n",
       "      <td>Misc</td>\n",
       "      <td>4</td>\n",
       "      <td>3</td>\n",
       "      <td>-1.128951</td>\n",
       "      <td>0.870541</td>\n",
       "      <td>sub47</td>\n",
       "      <td>Phones</td>\n",
       "      <td>1</td>\n",
       "      <td>No</td>\n",
       "      <td>40.5</td>\n",
       "      <td>0.05</td>\n",
       "      <td>0.045000</td>\n",
       "    </tr>\n",
       "    <tr>\n",
       "      <th>1888</th>\n",
       "      <td>DF</td>\n",
       "      <td>3</td>\n",
       "      <td>2wks</td>\n",
       "      <td>Misc</td>\n",
       "      <td>5</td>\n",
       "      <td>3</td>\n",
       "      <td>-1.128951</td>\n",
       "      <td>0.870541</td>\n",
       "      <td>sub47</td>\n",
       "      <td>Phones</td>\n",
       "      <td>1</td>\n",
       "      <td>No</td>\n",
       "      <td>40.5</td>\n",
       "      <td>0.05</td>\n",
       "      <td>0.045000</td>\n",
       "    </tr>\n",
       "    <tr>\n",
       "      <th>1881</th>\n",
       "      <td>BD</td>\n",
       "      <td>1B</td>\n",
       "      <td>2wks</td>\n",
       "      <td>Misc</td>\n",
       "      <td>3</td>\n",
       "      <td>3</td>\n",
       "      <td>-1.128951</td>\n",
       "      <td>0.870541</td>\n",
       "      <td>sub47</td>\n",
       "      <td>Phones</td>\n",
       "      <td>1</td>\n",
       "      <td>No</td>\n",
       "      <td>40.5</td>\n",
       "      <td>0.05</td>\n",
       "      <td>0.045000</td>\n",
       "    </tr>\n",
       "    <tr>\n",
       "      <th>1889</th>\n",
       "      <td>EF</td>\n",
       "      <td>4</td>\n",
       "      <td>1wk</td>\n",
       "      <td>Consecutive</td>\n",
       "      <td>5</td>\n",
       "      <td>3</td>\n",
       "      <td>-1.128951</td>\n",
       "      <td>0.870541</td>\n",
       "      <td>sub47</td>\n",
       "      <td>Phones</td>\n",
       "      <td>1</td>\n",
       "      <td>No</td>\n",
       "      <td>40.5</td>\n",
       "      <td>0.05</td>\n",
       "      <td>0.045000</td>\n",
       "    </tr>\n",
       "    <tr>\n",
       "      <th>1857</th>\n",
       "      <td>DE</td>\n",
       "      <td>3</td>\n",
       "      <td>1wk</td>\n",
       "      <td>Consecutive</td>\n",
       "      <td>4</td>\n",
       "      <td>3</td>\n",
       "      <td>-1.555882</td>\n",
       "      <td>0.940132</td>\n",
       "      <td>sub47</td>\n",
       "      <td>Shirts</td>\n",
       "      <td>1</td>\n",
       "      <td>No</td>\n",
       "      <td>43.5</td>\n",
       "      <td>0.05</td>\n",
       "      <td>0.048333</td>\n",
       "    </tr>\n",
       "    <tr>\n",
       "      <th>1859</th>\n",
       "      <td>EF</td>\n",
       "      <td>4</td>\n",
       "      <td>1wk</td>\n",
       "      <td>Consecutive</td>\n",
       "      <td>5</td>\n",
       "      <td>3</td>\n",
       "      <td>-1.555882</td>\n",
       "      <td>0.940132</td>\n",
       "      <td>sub47</td>\n",
       "      <td>Shirts</td>\n",
       "      <td>1</td>\n",
       "      <td>No</td>\n",
       "      <td>43.5</td>\n",
       "      <td>0.05</td>\n",
       "      <td>0.048333</td>\n",
       "    </tr>\n",
       "    <tr>\n",
       "      <th>1874</th>\n",
       "      <td>EF</td>\n",
       "      <td>4</td>\n",
       "      <td>1wk</td>\n",
       "      <td>Consecutive</td>\n",
       "      <td>5</td>\n",
       "      <td>2</td>\n",
       "      <td>-1.689680</td>\n",
       "      <td>0.954455</td>\n",
       "      <td>sub47</td>\n",
       "      <td>Cars</td>\n",
       "      <td>1</td>\n",
       "      <td>No</td>\n",
       "      <td>45.0</td>\n",
       "      <td>0.05</td>\n",
       "      <td>0.050000</td>\n",
       "    </tr>\n",
       "  </tbody>\n",
       "</table>\n",
       "</div>"
      ],
      "text/plain": [
       "     timepoint session elapTime        class  choices  distances         Z  \\\n",
       "1849        AF      1A     4wks        Fixed        5         11  2.752715   \n",
       "1876        AC      1A      1wk        Fixed        2          9  2.457130   \n",
       "1846        AC      1A      1wk        Fixed        2         10  2.214140   \n",
       "1864        AF      1A     4wks        Fixed        5          8  2.112100   \n",
       "1878        AE      1A     3wks        Fixed        4          8  1.859449   \n",
       "1880        BC      1B      1wk  Consecutive        2          8  1.859449   \n",
       "1862        AD      1A     2wks        Fixed        3          7  1.478470   \n",
       "1873        DF       3     2wks         Misc        5          7  1.478470   \n",
       "1882        BE      1B     3wks         Misc        4          7  1.261769   \n",
       "1879        AF      1A     4wks        Fixed        5          7  1.261769   \n",
       "1875        AB      1A    20min        Fixed        1          7  1.261769   \n",
       "1848        AE      1A     3wks        Fixed        4          8  1.136991   \n",
       "1863        AE      1A     3wks        Fixed        4          6  0.844840   \n",
       "1845        AB      1A    20min        Fixed        1          7  0.598416   \n",
       "1854        CD       2      1wk  Consecutive        3          7  0.598416   \n",
       "1850        BC      1B      1wk  Consecutive        2          7  0.598416   \n",
       "1847        AD      1A     2wks        Fixed        3          7  0.598416   \n",
       "1856        CF       2     3wks         Misc        5          7  0.598416   \n",
       "1872        DE       3      1wk  Consecutive        4          5  0.211210   \n",
       "1871        CF       2     3wks         Misc        5          5  0.211210   \n",
       "1868        BF      1B     4wks         Misc        5          5  0.211210   \n",
       "1867        BE      1B     3wks         Misc        4          5  0.211210   \n",
       "1861        AC      1A      1wk        Fixed        2          5  0.211210   \n",
       "1860        AB      1A    20min        Fixed        1          5  0.211210   \n",
       "1884        CD       2      1wk  Consecutive        3          5  0.066409   \n",
       "1858        DF       3     2wks         Misc        5          6  0.059842   \n",
       "1853        BF      1B     4wks         Misc        5          6  0.059842   \n",
       "1851        BD      1B     2wks         Misc        3          6  0.059842   \n",
       "1865        BC      1B      1wk  Consecutive        2          4 -0.422420   \n",
       "1869        CD       2      1wk  Consecutive        3          4 -0.422420   \n",
       "1866        BD      1B     2wks         Misc        3          4 -0.422420   \n",
       "1852        BE      1B     3wks         Misc        4          5 -0.478733   \n",
       "1883        BF      1B     4wks         Misc        5          4 -0.531271   \n",
       "1886        CF       2     3wks         Misc        5          4 -0.531271   \n",
       "1887        DE       3      1wk  Consecutive        4          4 -0.531271   \n",
       "1877        AD      1A     2wks        Fixed        3          4 -0.531271   \n",
       "1855        CE       2     2wks         Misc        4          4 -1.017308   \n",
       "1870        CE       2     2wks         Misc        4          3 -1.056050   \n",
       "1885        CE       2     2wks         Misc        4          3 -1.128951   \n",
       "1888        DF       3     2wks         Misc        5          3 -1.128951   \n",
       "1881        BD      1B     2wks         Misc        3          3 -1.128951   \n",
       "1889        EF       4      1wk  Consecutive        5          3 -1.128951   \n",
       "1857        DE       3      1wk  Consecutive        4          3 -1.555882   \n",
       "1859        EF       4      1wk  Consecutive        5          3 -1.555882   \n",
       "1874        EF       4      1wk  Consecutive        5          2 -1.689680   \n",
       "\n",
       "          pval subname category  subSortAF change  rank  test  hochberg  \n",
       "1849  0.002955   sub47   Shirts          1     No   1.0  0.05  0.001111  \n",
       "1876  0.007003   sub47   Phones          1     No   2.0  0.05  0.002222  \n",
       "1846  0.013410   sub47   Shirts          1     No   3.0  0.05  0.003333  \n",
       "1864  0.017339   sub47     Cars          1     No   4.0  0.05  0.004444  \n",
       "1878  0.031482   sub47   Phones          1     No   5.5  0.05  0.006111  \n",
       "1880  0.031482   sub47   Phones          1     No   5.5  0.05  0.006111  \n",
       "1862  0.069641   sub47     Cars          1     No   7.5  0.05  0.008333  \n",
       "1873  0.069641   sub47     Cars          1     No   7.5  0.05  0.008333  \n",
       "1882  0.103516   sub47   Phones          1     No  10.0  0.05  0.011111  \n",
       "1879  0.103516   sub47   Phones          1     No  10.0  0.05  0.011111  \n",
       "1875  0.103516   sub47   Phones          1     No  10.0  0.05  0.011111  \n",
       "1848  0.127771   sub47   Shirts          1     No  12.0  0.05  0.013333  \n",
       "1863  0.199100   sub47     Cars          1     No  13.0  0.05  0.014444  \n",
       "1845  0.274781   sub47   Shirts          1     No  16.0  0.05  0.017778  \n",
       "1854  0.274781   sub47   Shirts          1     No  16.0  0.05  0.017778  \n",
       "1850  0.274781   sub47   Shirts          1     No  16.0  0.05  0.017778  \n",
       "1847  0.274781   sub47   Shirts          1     No  16.0  0.05  0.017778  \n",
       "1856  0.274781   sub47   Shirts          1     No  16.0  0.05  0.017778  \n",
       "1872  0.416362   sub47     Cars          1     No  21.5  0.05  0.023889  \n",
       "1871  0.416362   sub47     Cars          1     No  21.5  0.05  0.023889  \n",
       "1868  0.416362   sub47     Cars          1     No  21.5  0.05  0.023889  \n",
       "1867  0.416362   sub47     Cars          1     No  21.5  0.05  0.023889  \n",
       "1861  0.416362   sub47     Cars          1     No  21.5  0.05  0.023889  \n",
       "1860  0.416362   sub47     Cars          1     No  21.5  0.05  0.023889  \n",
       "1884  0.473526   sub47   Phones          1     No  25.0  0.05  0.027778  \n",
       "1858  0.476141   sub47   Shirts          1     No  27.0  0.05  0.030000  \n",
       "1853  0.476141   sub47   Shirts          1     No  27.0  0.05  0.030000  \n",
       "1851  0.476141   sub47   Shirts          1     No  27.0  0.05  0.030000  \n",
       "1865  0.663641   sub47     Cars          1     No  30.0  0.05  0.033333  \n",
       "1869  0.663641   sub47     Cars          1     No  30.0  0.05  0.033333  \n",
       "1866  0.663641   sub47     Cars          1     No  30.0  0.05  0.033333  \n",
       "1852  0.683936   sub47   Shirts          1     No  32.0  0.05  0.035556  \n",
       "1883  0.702385   sub47   Phones          1     No  34.5  0.05  0.038333  \n",
       "1886  0.702385   sub47   Phones          1     No  34.5  0.05  0.038333  \n",
       "1887  0.702385   sub47   Phones          1     No  34.5  0.05  0.038333  \n",
       "1877  0.702385   sub47   Phones          1     No  34.5  0.05  0.038333  \n",
       "1855  0.845496   sub47   Shirts          1     No  37.0  0.05  0.041111  \n",
       "1870  0.854527   sub47     Cars          1     No  38.0  0.05  0.042222  \n",
       "1885  0.870541   sub47   Phones          1     No  40.5  0.05  0.045000  \n",
       "1888  0.870541   sub47   Phones          1     No  40.5  0.05  0.045000  \n",
       "1881  0.870541   sub47   Phones          1     No  40.5  0.05  0.045000  \n",
       "1889  0.870541   sub47   Phones          1     No  40.5  0.05  0.045000  \n",
       "1857  0.940132   sub47   Shirts          1     No  43.5  0.05  0.048333  \n",
       "1859  0.940132   sub47   Shirts          1     No  43.5  0.05  0.048333  \n",
       "1874  0.954455   sub47     Cars          1     No  45.0  0.05  0.050000  "
      ]
     },
     "execution_count": 105,
     "metadata": {},
     "output_type": "execute_result"
    }
   ],
   "source": [
    "foo"
   ]
  },
  {
   "cell_type": "code",
   "execution_count": 119,
   "metadata": {
    "ExecuteTime": {
     "end_time": "2021-06-25T19:38:34.082266Z",
     "start_time": "2021-06-25T19:38:34.058325Z"
    }
   },
   "outputs": [
    {
     "data": {
      "text/plain": [
       "1849    False\n",
       "1876    False\n",
       "1846    False\n",
       "1864    False\n",
       "1878    False\n",
       "1880    False\n",
       "1862    False\n",
       "1873    False\n",
       "1882    False\n",
       "1879    False\n",
       "1875    False\n",
       "1848    False\n",
       "1863    False\n",
       "1845    False\n",
       "1854    False\n",
       "1850    False\n",
       "1847    False\n",
       "1856    False\n",
       "1872    False\n",
       "1871    False\n",
       "1868    False\n",
       "1867    False\n",
       "1861    False\n",
       "1860    False\n",
       "1884    False\n",
       "1858    False\n",
       "1853    False\n",
       "1851    False\n",
       "1865    False\n",
       "1869    False\n",
       "1866    False\n",
       "1852    False\n",
       "1883    False\n",
       "1886    False\n",
       "1887    False\n",
       "1877    False\n",
       "1855    False\n",
       "1870    False\n",
       "1885    False\n",
       "1888    False\n",
       "1881    False\n",
       "1889    False\n",
       "1857    False\n",
       "1859    False\n",
       "1874    False\n",
       "dtype: bool"
      ]
     },
     "execution_count": 119,
     "metadata": {},
     "output_type": "execute_result"
    }
   ],
   "source": [
    "foo['pval']<foo['hochberg']"
   ]
  },
  {
   "cell_type": "code",
   "execution_count": 114,
   "metadata": {
    "ExecuteTime": {
     "end_time": "2021-06-25T19:35:56.233493Z",
     "start_time": "2021-06-25T19:35:54.616215Z"
    }
   },
   "outputs": [],
   "source": [
    "import statsmodels.api as sm"
   ]
  },
  {
   "cell_type": "code",
   "execution_count": 116,
   "metadata": {
    "ExecuteTime": {
     "end_time": "2021-06-25T19:36:54.196571Z",
     "start_time": "2021-06-25T19:36:54.184605Z"
    }
   },
   "outputs": [],
   "source": [
    "from statsmodels.stats.multitest import multipletests"
   ]
  },
  {
   "cell_type": "code",
   "execution_count": 128,
   "metadata": {
    "ExecuteTime": {
     "end_time": "2021-06-25T19:52:47.424264Z",
     "start_time": "2021-06-25T19:52:47.413270Z"
    }
   },
   "outputs": [
    {
     "data": {
      "text/plain": [
       "(array([False, False, False, False, False, False, False, False, False,\n",
       "        False, False, False, False, False, False, False, False, False,\n",
       "        False, False, False, False, False, False, False, False, False,\n",
       "        False, False, False, False, False, False, False, False, False,\n",
       "        False, False, False, False, False, False, False, False, False]),\n",
       " array([0.1329825 , 0.30811467, 0.5766113 , 0.72823528, 0.95445541,\n",
       "        0.95445541, 0.95445541, 0.95445541, 0.95445541, 0.95445541,\n",
       "        0.95445541, 0.95445541, 0.95445541, 0.95445541, 0.95445541,\n",
       "        0.95445541, 0.95445541, 0.95445541, 0.95445541, 0.95445541,\n",
       "        0.95445541, 0.95445541, 0.95445541, 0.95445541, 0.95445541,\n",
       "        0.95445541, 0.95445541, 0.95445541, 0.95445541, 0.95445541,\n",
       "        0.95445541, 0.95445541, 0.95445541, 0.95445541, 0.95445541,\n",
       "        0.95445541, 0.95445541, 0.95445541, 0.95445541, 0.95445541,\n",
       "        0.95445541, 0.95445541, 0.95445541, 0.95445541, 0.95445541]),\n",
       " 0.0011392016030112861,\n",
       " 0.0011111111111111111)"
      ]
     },
     "execution_count": 128,
     "metadata": {},
     "output_type": "execute_result"
    }
   ],
   "source": [
    "multipletests(foo['pval'],method='simes-hochberg')"
   ]
  },
  {
   "cell_type": "code",
   "execution_count": 133,
   "metadata": {
    "ExecuteTime": {
     "end_time": "2021-06-25T19:54:24.931175Z",
     "start_time": "2021-06-25T19:54:24.917805Z"
    }
   },
   "outputs": [],
   "source": [
    "class HockTest():\n",
    "    def __init__(self,subname):\n",
    "        \n",
    "        self.df=prefDF.groupby('subSortAF').get_group(subname)\n",
    "        self.df['corrected']=multipletests(self.df['pval'],method='simes-hochberg')[0]\n",
    "        self.stats=self.df.groupby('class').agg({'corrected':'sum'})"
   ]
  },
  {
   "cell_type": "code",
   "execution_count": 136,
   "metadata": {
    "ExecuteTime": {
     "end_time": "2021-06-25T19:54:50.488392Z",
     "start_time": "2021-06-25T19:54:50.478421Z"
    }
   },
   "outputs": [],
   "source": [
    "hockD={}"
   ]
  },
  {
   "cell_type": "code",
   "execution_count": 140,
   "metadata": {
    "ExecuteTime": {
     "end_time": "2021-06-25T19:55:32.877246Z",
     "start_time": "2021-06-25T19:55:32.228565Z"
    }
   },
   "outputs": [
    {
     "name": "stdout",
     "output_type": "stream",
     "text": [
      "1\n",
      "2\n",
      "3\n",
      "4\n",
      "5\n",
      "6\n",
      "7\n",
      "8\n",
      "9\n",
      "10\n",
      "11\n",
      "12\n",
      "13\n",
      "14\n",
      "15\n",
      "16\n",
      "17\n",
      "18\n",
      "19\n",
      "20\n",
      "21\n",
      "22\n",
      "23"
     ]
    },
    {
     "name": "stderr",
     "output_type": "stream",
     "text": [
      "C:\\Users\\al33m\\AppData\\Local\\Continuum\\anaconda3\\lib\\site-packages\\ipykernel_launcher.py:5: SettingWithCopyWarning:\n",
      "\n",
      "\n",
      "A value is trying to be set on a copy of a slice from a DataFrame.\n",
      "Try using .loc[row_indexer,col_indexer] = value instead\n",
      "\n",
      "See the caveats in the documentation: https://pandas.pydata.org/pandas-docs/stable/user_guide/indexing.html#returning-a-view-versus-a-copy\n",
      "\n"
     ]
    },
    {
     "name": "stdout",
     "output_type": "stream",
     "text": [
      "\n",
      "24\n",
      "25\n",
      "26\n",
      "27\n",
      "28\n",
      "29\n",
      "30\n",
      "31\n",
      "32\n",
      "33\n",
      "34\n",
      "35\n",
      "36\n",
      "37\n",
      "38\n",
      "39\n",
      "40\n",
      "41\n",
      "42\n",
      "43\n",
      "44\n",
      "45\n",
      "46\n",
      "47\n",
      "48\n",
      "49\n",
      "50\n",
      "51\n",
      "52\n",
      "53\n",
      "54\n",
      "56\n",
      "57\n",
      "58\n",
      "60\n",
      "61\n",
      "62\n",
      "63\n",
      "64\n",
      "65\n",
      "66\n",
      "67\n",
      "68\n",
      "69\n",
      "70\n",
      "71\n",
      "73\n",
      "74\n",
      "75\n",
      "76\n",
      "77\n",
      "78\n",
      "79\n",
      "81\n",
      "82\n",
      "83\n",
      "84\n",
      "85\n",
      "86\n",
      "87\n",
      "89\n",
      "90\n"
     ]
    }
   ],
   "source": [
    "for i in np.unique(prefDF['subSortAF']):\n",
    "    print(i)\n",
    "    hockD[i]=HockTest(i)"
   ]
  },
  {
   "cell_type": "code",
   "execution_count": 152,
   "metadata": {
    "ExecuteTime": {
     "end_time": "2021-06-25T19:57:30.965220Z",
     "start_time": "2021-06-25T19:57:30.954247Z"
    }
   },
   "outputs": [
    {
     "data": {
      "text/plain": [
       "0"
      ]
     },
     "execution_count": 152,
     "metadata": {},
     "output_type": "execute_result"
    }
   ],
   "source": [
    "np.sum(hockD[1].stats,axis=0).values[0]"
   ]
  },
  {
   "cell_type": "code",
   "execution_count": 164,
   "metadata": {
    "ExecuteTime": {
     "end_time": "2021-06-25T19:59:37.995921Z",
     "start_time": "2021-06-25T19:59:37.899486Z"
    }
   },
   "outputs": [],
   "source": [
    "overall=[]\n",
    "fixed=[]\n",
    "\n",
    "for i in np.unique(prefDF['subSortAF']):\n",
    "    overall.append(np.sum(hockD[i].stats,axis=0).values[0])\n",
    "    fixed.append(hockD[i].stats.loc['Fixed'][0])"
   ]
  },
  {
   "cell_type": "code",
   "execution_count": 165,
   "metadata": {
    "ExecuteTime": {
     "end_time": "2021-06-25T19:59:44.410499Z",
     "start_time": "2021-06-25T19:59:44.401524Z"
    }
   },
   "outputs": [
    {
     "data": {
      "text/plain": [
       "76"
      ]
     },
     "execution_count": 165,
     "metadata": {},
     "output_type": "execute_result"
    }
   ],
   "source": [
    "85-np.sum([i==0 for i in overall])"
   ]
  },
  {
   "cell_type": "code",
   "execution_count": 20,
   "metadata": {
    "ExecuteTime": {
     "end_time": "2021-06-29T21:08:47.896868Z",
     "start_time": "2021-06-29T21:08:47.883899Z"
    }
   },
   "outputs": [
    {
     "data": {
      "text/plain": [
       "0.8941176470588236"
      ]
     },
     "execution_count": 20,
     "metadata": {},
     "output_type": "execute_result"
    }
   ],
   "source": [
    "76/85"
   ]
  },
  {
   "cell_type": "code",
   "execution_count": 21,
   "metadata": {
    "ExecuteTime": {
     "end_time": "2021-06-29T21:09:10.639582Z",
     "start_time": "2021-06-29T21:09:10.626616Z"
    }
   },
   "outputs": [
    {
     "data": {
      "text/plain": [
       "0.6941176470588235"
      ]
     },
     "execution_count": 21,
     "metadata": {},
     "output_type": "execute_result"
    }
   ],
   "source": [
    "59/85"
   ]
  },
  {
   "cell_type": "code",
   "execution_count": 166,
   "metadata": {
    "ExecuteTime": {
     "end_time": "2021-06-25T19:59:53.930668Z",
     "start_time": "2021-06-25T19:59:53.921692Z"
    }
   },
   "outputs": [
    {
     "data": {
      "text/plain": [
       "59"
      ]
     },
     "execution_count": 166,
     "metadata": {},
     "output_type": "execute_result"
    }
   ],
   "source": [
    "85-np.sum([i==0 for i in fixed])"
   ]
  }
 ],
 "metadata": {
  "kernelspec": {
   "display_name": "Python 3",
   "language": "python",
   "name": "python3"
  },
  "language_info": {
   "codemirror_mode": {
    "name": "ipython",
    "version": 3
   },
   "file_extension": ".py",
   "mimetype": "text/x-python",
   "name": "python",
   "nbconvert_exporter": "python",
   "pygments_lexer": "ipython3",
   "version": "3.8.8"
  },
  "toc": {
   "base_numbering": 1,
   "nav_menu": {},
   "number_sections": true,
   "sideBar": true,
   "skip_h1_title": false,
   "title_cell": "Table of Contents",
   "title_sidebar": "Contents",
   "toc_cell": false,
   "toc_position": {
    "height": "calc(100% - 180px)",
    "left": "10px",
    "top": "150px",
    "width": "186px"
   },
   "toc_section_display": true,
   "toc_window_display": true
  },
  "varInspector": {
   "cols": {
    "lenName": 16,
    "lenType": 16,
    "lenVar": 40
   },
   "kernels_config": {
    "python": {
     "delete_cmd_postfix": "",
     "delete_cmd_prefix": "del ",
     "library": "var_list.py",
     "varRefreshCmd": "print(var_dic_list())"
    },
    "r": {
     "delete_cmd_postfix": ") ",
     "delete_cmd_prefix": "rm(",
     "library": "var_list.r",
     "varRefreshCmd": "cat(var_dic_list()) "
    }
   },
   "types_to_exclude": [
    "module",
    "function",
    "builtin_function_or_method",
    "instance",
    "_Feature"
   ],
   "window_display": false
  }
 },
 "nbformat": 4,
 "nbformat_minor": 2
}
